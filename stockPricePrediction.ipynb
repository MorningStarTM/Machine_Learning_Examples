{
  "nbformat": 4,
  "nbformat_minor": 0,
  "metadata": {
    "colab": {
      "provenance": [],
      "collapsed_sections": [],
      "authorship_tag": "ABX9TyOMeqquM/TFDIrpi7u/V/CX",
      "include_colab_link": true
    },
    "kernelspec": {
      "name": "python3",
      "display_name": "Python 3"
    },
    "language_info": {
      "name": "python"
    }
  },
  "cells": [
    {
      "cell_type": "markdown",
      "metadata": {
        "id": "view-in-github",
        "colab_type": "text"
      },
      "source": [
        "<a href=\"https://colab.research.google.com/github/MorningStarTM/Machine_Learning_Examples/blob/main/stockPricePrediction.ipynb\" target=\"_parent\"><img src=\"https://colab.research.google.com/assets/colab-badge.svg\" alt=\"Open In Colab\"/></a>"
      ]
    },
    {
      "cell_type": "markdown",
      "source": [
        "#Stock Price Prediction using LSTM model"
      ],
      "metadata": {
        "id": "MITePxDAbMFw"
      }
    },
    {
      "cell_type": "code",
      "execution_count": 1,
      "metadata": {
        "id": "GNPhJt5mbDGw"
      },
      "outputs": [],
      "source": [
        "#import the libraries\n",
        "import pandas as pd\n",
        "import numpy as np\n",
        "import matplotlib.pyplot as plt"
      ]
    },
    {
      "cell_type": "markdown",
      "source": [
        "##visualizing data"
      ],
      "metadata": {
        "id": "7dRZU3Ece1AA"
      }
    },
    {
      "cell_type": "code",
      "source": [
        "#import data\n",
        "df = pd.read_csv('LFIN Historical Data.csv')\n",
        "df.head()"
      ],
      "metadata": {
        "colab": {
          "base_uri": "https://localhost:8080/",
          "height": 206
        },
        "id": "ZvogoLyrbeU8",
        "outputId": "3745084a-b184-490d-ff8d-075f8ac427d5"
      },
      "execution_count": 2,
      "outputs": [
        {
          "output_type": "execute_result",
          "data": {
            "text/plain": [
              "           Date  Price  Open  High   Low    Vol. Change %\n",
              "0  Sep 02, 2022   46.0  44.5  47.5  44.5  66.86K    5.75%\n",
              "1  Sep 01, 2022   43.5  42.5  44.0  42.5   9.54K    2.11%\n",
              "2  Aug 31, 2022   42.6  43.0  43.1  42.5  23.86K    0.24%\n",
              "3  Aug 30, 2022   42.5  42.5  43.0  42.0  25.38K    1.19%\n",
              "4  Aug 29, 2022   42.0  43.0  43.0  41.9  36.77K   -1.64%"
            ],
            "text/html": [
              "\n",
              "  <div id=\"df-75b3c933-4e79-41a3-b786-4c18aaf78dfa\">\n",
              "    <div class=\"colab-df-container\">\n",
              "      <div>\n",
              "<style scoped>\n",
              "    .dataframe tbody tr th:only-of-type {\n",
              "        vertical-align: middle;\n",
              "    }\n",
              "\n",
              "    .dataframe tbody tr th {\n",
              "        vertical-align: top;\n",
              "    }\n",
              "\n",
              "    .dataframe thead th {\n",
              "        text-align: right;\n",
              "    }\n",
              "</style>\n",
              "<table border=\"1\" class=\"dataframe\">\n",
              "  <thead>\n",
              "    <tr style=\"text-align: right;\">\n",
              "      <th></th>\n",
              "      <th>Date</th>\n",
              "      <th>Price</th>\n",
              "      <th>Open</th>\n",
              "      <th>High</th>\n",
              "      <th>Low</th>\n",
              "      <th>Vol.</th>\n",
              "      <th>Change %</th>\n",
              "    </tr>\n",
              "  </thead>\n",
              "  <tbody>\n",
              "    <tr>\n",
              "      <th>0</th>\n",
              "      <td>Sep 02, 2022</td>\n",
              "      <td>46.0</td>\n",
              "      <td>44.5</td>\n",
              "      <td>47.5</td>\n",
              "      <td>44.5</td>\n",
              "      <td>66.86K</td>\n",
              "      <td>5.75%</td>\n",
              "    </tr>\n",
              "    <tr>\n",
              "      <th>1</th>\n",
              "      <td>Sep 01, 2022</td>\n",
              "      <td>43.5</td>\n",
              "      <td>42.5</td>\n",
              "      <td>44.0</td>\n",
              "      <td>42.5</td>\n",
              "      <td>9.54K</td>\n",
              "      <td>2.11%</td>\n",
              "    </tr>\n",
              "    <tr>\n",
              "      <th>2</th>\n",
              "      <td>Aug 31, 2022</td>\n",
              "      <td>42.6</td>\n",
              "      <td>43.0</td>\n",
              "      <td>43.1</td>\n",
              "      <td>42.5</td>\n",
              "      <td>23.86K</td>\n",
              "      <td>0.24%</td>\n",
              "    </tr>\n",
              "    <tr>\n",
              "      <th>3</th>\n",
              "      <td>Aug 30, 2022</td>\n",
              "      <td>42.5</td>\n",
              "      <td>42.5</td>\n",
              "      <td>43.0</td>\n",
              "      <td>42.0</td>\n",
              "      <td>25.38K</td>\n",
              "      <td>1.19%</td>\n",
              "    </tr>\n",
              "    <tr>\n",
              "      <th>4</th>\n",
              "      <td>Aug 29, 2022</td>\n",
              "      <td>42.0</td>\n",
              "      <td>43.0</td>\n",
              "      <td>43.0</td>\n",
              "      <td>41.9</td>\n",
              "      <td>36.77K</td>\n",
              "      <td>-1.64%</td>\n",
              "    </tr>\n",
              "  </tbody>\n",
              "</table>\n",
              "</div>\n",
              "      <button class=\"colab-df-convert\" onclick=\"convertToInteractive('df-75b3c933-4e79-41a3-b786-4c18aaf78dfa')\"\n",
              "              title=\"Convert this dataframe to an interactive table.\"\n",
              "              style=\"display:none;\">\n",
              "        \n",
              "  <svg xmlns=\"http://www.w3.org/2000/svg\" height=\"24px\"viewBox=\"0 0 24 24\"\n",
              "       width=\"24px\">\n",
              "    <path d=\"M0 0h24v24H0V0z\" fill=\"none\"/>\n",
              "    <path d=\"M18.56 5.44l.94 2.06.94-2.06 2.06-.94-2.06-.94-.94-2.06-.94 2.06-2.06.94zm-11 1L8.5 8.5l.94-2.06 2.06-.94-2.06-.94L8.5 2.5l-.94 2.06-2.06.94zm10 10l.94 2.06.94-2.06 2.06-.94-2.06-.94-.94-2.06-.94 2.06-2.06.94z\"/><path d=\"M17.41 7.96l-1.37-1.37c-.4-.4-.92-.59-1.43-.59-.52 0-1.04.2-1.43.59L10.3 9.45l-7.72 7.72c-.78.78-.78 2.05 0 2.83L4 21.41c.39.39.9.59 1.41.59.51 0 1.02-.2 1.41-.59l7.78-7.78 2.81-2.81c.8-.78.8-2.07 0-2.86zM5.41 20L4 18.59l7.72-7.72 1.47 1.35L5.41 20z\"/>\n",
              "  </svg>\n",
              "      </button>\n",
              "      \n",
              "  <style>\n",
              "    .colab-df-container {\n",
              "      display:flex;\n",
              "      flex-wrap:wrap;\n",
              "      gap: 12px;\n",
              "    }\n",
              "\n",
              "    .colab-df-convert {\n",
              "      background-color: #E8F0FE;\n",
              "      border: none;\n",
              "      border-radius: 50%;\n",
              "      cursor: pointer;\n",
              "      display: none;\n",
              "      fill: #1967D2;\n",
              "      height: 32px;\n",
              "      padding: 0 0 0 0;\n",
              "      width: 32px;\n",
              "    }\n",
              "\n",
              "    .colab-df-convert:hover {\n",
              "      background-color: #E2EBFA;\n",
              "      box-shadow: 0px 1px 2px rgba(60, 64, 67, 0.3), 0px 1px 3px 1px rgba(60, 64, 67, 0.15);\n",
              "      fill: #174EA6;\n",
              "    }\n",
              "\n",
              "    [theme=dark] .colab-df-convert {\n",
              "      background-color: #3B4455;\n",
              "      fill: #D2E3FC;\n",
              "    }\n",
              "\n",
              "    [theme=dark] .colab-df-convert:hover {\n",
              "      background-color: #434B5C;\n",
              "      box-shadow: 0px 1px 3px 1px rgba(0, 0, 0, 0.15);\n",
              "      filter: drop-shadow(0px 1px 2px rgba(0, 0, 0, 0.3));\n",
              "      fill: #FFFFFF;\n",
              "    }\n",
              "  </style>\n",
              "\n",
              "      <script>\n",
              "        const buttonEl =\n",
              "          document.querySelector('#df-75b3c933-4e79-41a3-b786-4c18aaf78dfa button.colab-df-convert');\n",
              "        buttonEl.style.display =\n",
              "          google.colab.kernel.accessAllowed ? 'block' : 'none';\n",
              "\n",
              "        async function convertToInteractive(key) {\n",
              "          const element = document.querySelector('#df-75b3c933-4e79-41a3-b786-4c18aaf78dfa');\n",
              "          const dataTable =\n",
              "            await google.colab.kernel.invokeFunction('convertToInteractive',\n",
              "                                                     [key], {});\n",
              "          if (!dataTable) return;\n",
              "\n",
              "          const docLinkHtml = 'Like what you see? Visit the ' +\n",
              "            '<a target=\"_blank\" href=https://colab.research.google.com/notebooks/data_table.ipynb>data table notebook</a>'\n",
              "            + ' to learn more about interactive tables.';\n",
              "          element.innerHTML = '';\n",
              "          dataTable['output_type'] = 'display_data';\n",
              "          await google.colab.output.renderOutput(dataTable, element);\n",
              "          const docLink = document.createElement('div');\n",
              "          docLink.innerHTML = docLinkHtml;\n",
              "          element.appendChild(docLink);\n",
              "        }\n",
              "      </script>\n",
              "    </div>\n",
              "  </div>\n",
              "  "
            ]
          },
          "metadata": {},
          "execution_count": 2
        }
      ]
    },
    {
      "cell_type": "code",
      "source": [
        "#Description about data\n",
        "print(df.shape)\n",
        "print(df.info())\n",
        "print(df.columns)"
      ],
      "metadata": {
        "colab": {
          "base_uri": "https://localhost:8080/"
        },
        "id": "80AONTeBblew",
        "outputId": "59c0686d-d917-42f3-b33f-2b12a5149706"
      },
      "execution_count": 3,
      "outputs": [
        {
          "output_type": "stream",
          "name": "stdout",
          "text": [
            "(151, 7)\n",
            "<class 'pandas.core.frame.DataFrame'>\n",
            "RangeIndex: 151 entries, 0 to 150\n",
            "Data columns (total 7 columns):\n",
            " #   Column    Non-Null Count  Dtype  \n",
            "---  ------    --------------  -----  \n",
            " 0   Date      151 non-null    object \n",
            " 1   Price     151 non-null    float64\n",
            " 2   Open      151 non-null    float64\n",
            " 3   High      151 non-null    float64\n",
            " 4   Low       151 non-null    float64\n",
            " 5   Vol.      151 non-null    object \n",
            " 6   Change %  151 non-null    object \n",
            "dtypes: float64(4), object(3)\n",
            "memory usage: 8.4+ KB\n",
            "None\n",
            "Index(['Date', 'Price', 'Open', 'High', 'Low', 'Vol.', 'Change %'], dtype='object')\n"
          ]
        }
      ]
    },
    {
      "cell_type": "code",
      "source": [
        "plt.figure(figsize=(35,10))\n",
        "plt.title('Share')\n",
        "plt.xlabel('date')\n",
        "plt.ylabel('price')\n",
        "plt.plot(df.Date, df['High'])\n",
        "plt.show()"
      ],
      "metadata": {
        "colab": {
          "base_uri": "https://localhost:8080/",
          "height": 560
        },
        "id": "GGo3WT5qb1t0",
        "outputId": "d3d13d04-c396-4319-f113-53f77e472839"
      },
      "execution_count": 4,
      "outputs": [
        {
          "output_type": "display_data",
          "data": {
            "text/plain": [
              "<Figure size 2520x720 with 1 Axes>"
            ],
            "image/png": "[encoded data removed]"
          },
          "metadata": {
            "needs_background": "light"
          }
        }
      ]
    },
    {
      "cell_type": "markdown",
      "source": [
        "##Data preprocessing"
      ],
      "metadata": {
        "id": "Ofz0jFn6fmXY"
      }
    },
    {
      "cell_type": "code",
      "source": [
        "data = df['High']"
      ],
      "metadata": {
        "id": "0rlhDluYc8cY"
      },
      "execution_count": 6,
      "outputs": []
    },
    {
      "cell_type": "code",
      "source": [
        "data = list(data)"
      ],
      "metadata": {
        "id": "WAaRYhuajYHQ"
      },
      "execution_count": 7,
      "outputs": []
    },
    {
      "cell_type": "code",
      "source": [
        "len(data)"
      ],
      "metadata": {
        "colab": {
          "base_uri": "https://localhost:8080/"
        },
        "id": "T4P98P-rjkJk",
        "outputId": "f4ee4b87-c0f6-4803-94c3-b7370582e80d"
      },
      "execution_count": 8,
      "outputs": [
        {
          "output_type": "execute_result",
          "data": {
            "text/plain": [
              "151"
            ]
          },
          "metadata": {},
          "execution_count": 8
        }
      ]
    },
    {
      "cell_type": "code",
      "source": [
        "def data_set(data, n_feature):\n",
        "  X,y = [], []\n",
        "  for i in range(len(data)):\n",
        "    end_x = i + n_feature\n",
        "    if end_x > len(data)-1:\n",
        "      break\n",
        "    seq_x, seq_y = data[i:end_x], data[end_x]\n",
        "    X.append(seq_x)\n",
        "    y.append(seq_y)\n",
        "  return np.array(X), np.array(y)"
      ],
      "metadata": {
        "id": "1BxFafMhiyVc"
      },
      "execution_count": 37,
      "outputs": []
    },
    {
      "cell_type": "code",
      "source": [
        "X,y = data_set(data, 3)"
      ],
      "metadata": {
        "id": "lgR1XP6iqz60"
      },
      "execution_count": 38,
      "outputs": []
    },
    {
      "cell_type": "code",
      "source": [
        "print(X)\n",
        "print(y)"
      ],
      "metadata": {
        "colab": {
          "base_uri": "https://localhost:8080/"
        },
        "id": "NiDoTxGfqTU4",
        "outputId": "fbf41518-4e01-4849-f496-e46270d509ce"
      },
      "execution_count": 39,
      "outputs": [
        {
          "output_type": "stream",
          "name": "stdout",
          "text": [
            "[[47.5 44.  43.1]\n",
            " [44.  43.1 43. ]\n",
            " [43.1 43.  43. ]\n",
            " [43.  43.  43. ]\n",
            " [43.  43.  44. ]\n",
            " [43.  44.  44. ]\n",
            " [44.  44.  44. ]\n",
            " [44.  44.  45. ]\n",
            " [44.  45.  43. ]\n",
            " [45.  43.  42.9]\n",
            " [43.  42.9 44. ]\n",
            " [42.9 44.  44.4]\n",
            " [44.  44.4 44.4]\n",
            " [44.4 44.4 44.4]\n",
            " [44.4 44.4 44.4]\n",
            " [44.4 44.4 42.5]\n",
            " [44.4 42.5 44.1]\n",
            " [42.5 44.1 44. ]\n",
            " [44.1 44.  42.4]\n",
            " [44.  42.4 41.7]\n",
            " [42.4 41.7 41.9]\n",
            " [41.7 41.9 43. ]\n",
            " [41.9 43.  43. ]\n",
            " [43.  43.  43. ]\n",
            " [43.  43.  42.5]\n",
            " [43.  42.5 42.5]\n",
            " [42.5 42.5 45. ]\n",
            " [42.5 45.  43.9]\n",
            " [45.  43.9 45. ]\n",
            " [43.9 45.  42. ]\n",
            " [45.  42.  42. ]\n",
            " [42.  42.  42. ]\n",
            " [42.  42.  39.9]\n",
            " [42.  39.9 39.4]\n",
            " [39.9 39.4 39. ]\n",
            " [39.4 39.  39. ]\n",
            " [39.  39.  38.5]\n",
            " [39.  38.5 39.6]\n",
            " [38.5 39.6 40. ]\n",
            " [39.6 40.  40. ]\n",
            " [40.  40.  42. ]\n",
            " [40.  42.  42. ]\n",
            " [42.  42.  43.4]\n",
            " [42.  43.4 45. ]\n",
            " [43.4 45.  44.5]\n",
            " [45.  44.5 45.5]\n",
            " [44.5 45.5 46. ]\n",
            " [45.5 46.  46. ]\n",
            " [46.  46.  45.5]\n",
            " [46.  45.5 45.4]\n",
            " [45.5 45.4 45.4]\n",
            " [45.4 45.4 47. ]\n",
            " [45.4 47.  47.2]\n",
            " [47.  47.2 47.1]\n",
            " [47.2 47.1 47.9]\n",
            " [47.1 47.9 47.9]\n",
            " [47.9 47.9 48. ]\n",
            " [47.9 48.  45. ]\n",
            " [48.  45.  46.5]\n",
            " [45.  46.5 45. ]\n",
            " [46.5 45.  46.5]\n",
            " [45.  46.5 46.9]\n",
            " [46.5 46.9 46.9]\n",
            " [46.9 46.9 46.4]\n",
            " [46.9 46.4 46.5]\n",
            " [46.4 46.5 46.5]\n",
            " [46.5 46.5 48. ]\n",
            " [46.5 48.  48. ]\n",
            " [48.  48.  49. ]\n",
            " [48.  49.  49. ]\n",
            " [49.  49.  48. ]\n",
            " [49.  48.  52.9]\n",
            " [48.  52.9 53. ]\n",
            " [52.9 53.  53.9]\n",
            " [53.  53.9 53. ]\n",
            " [53.9 53.  48. ]\n",
            " [53.  48.  47.2]\n",
            " [48.  47.2 48.5]\n",
            " [47.2 48.5 49.5]\n",
            " [48.5 49.5 52. ]\n",
            " [49.5 52.  50. ]\n",
            " [52.  50.  50.9]\n",
            " [50.  50.9 50.9]\n",
            " [50.9 50.9 49.9]\n",
            " [50.9 49.9 50. ]\n",
            " [49.9 50.  58. ]\n",
            " [50.  58.  60. ]\n",
            " [58.  60.  61.1]\n",
            " [60.  61.1 61.7]\n",
            " [61.1 61.7 59.9]\n",
            " [61.7 59.9 50. ]\n",
            " [59.9 50.  60. ]\n",
            " [50.  60.  62.8]\n",
            " [60.  62.8 65.1]\n",
            " [62.8 65.1 65.3]\n",
            " [65.1 65.3 65.4]\n",
            " [65.3 65.4 64.3]\n",
            " [65.4 64.3 62.4]\n",
            " [64.3 62.4 61.8]\n",
            " [62.4 61.8 60.9]\n",
            " [61.8 60.9 58.5]\n",
            " [60.9 58.5 58.1]\n",
            " [58.5 58.1 62.9]\n",
            " [58.1 62.9 60. ]\n",
            " [62.9 60.  64.9]\n",
            " [60.  64.9 64.9]\n",
            " [64.9 64.9 62. ]\n",
            " [64.9 62.  63.5]\n",
            " [62.  63.5 65.9]\n",
            " [63.5 65.9 66.9]\n",
            " [65.9 66.9 66.9]\n",
            " [66.9 66.9 68.9]\n",
            " [66.9 68.9 68.5]\n",
            " [68.9 68.5 66.9]\n",
            " [68.5 66.9 69. ]\n",
            " [66.9 69.  70. ]\n",
            " [69.  70.  70. ]\n",
            " [70.  70.  71. ]\n",
            " [70.  71.  71.7]\n",
            " [71.  71.7 72.5]\n",
            " [71.7 72.5 74. ]\n",
            " [72.5 74.  74.9]\n",
            " [74.  74.9 73. ]\n",
            " [74.9 73.  72. ]\n",
            " [73.  72.  74. ]\n",
            " [72.  74.  75. ]\n",
            " [74.  75.  75. ]\n",
            " [75.  75.  77.8]\n",
            " [75.  77.8 80. ]\n",
            " [77.8 80.  78. ]\n",
            " [80.  78.  78. ]\n",
            " [78.  78.  79.7]\n",
            " [78.  79.7 83.5]\n",
            " [79.7 83.5 82. ]\n",
            " [83.5 82.  83.5]\n",
            " [82.  83.5 85.7]\n",
            " [83.5 85.7 85.7]\n",
            " [85.7 85.7 90. ]\n",
            " [85.7 90.  92.1]\n",
            " [90.  92.1 91. ]\n",
            " [92.1 91.  78. ]\n",
            " [91.  78.  80. ]\n",
            " [78.  80.  78.5]\n",
            " [80.  78.5 73.5]\n",
            " [78.5 73.5 76.5]\n",
            " [73.5 76.5 75.4]\n",
            " [76.5 75.4 71. ]\n",
            " [75.4 71.  70. ]]\n",
            "[43.  43.  43.  44.  44.  44.  45.  43.  42.9 44.  44.4 44.4 44.4 44.4\n",
            " 42.5 44.1 44.  42.4 41.7 41.9 43.  43.  43.  42.5 42.5 45.  43.9 45.\n",
            " 42.  42.  42.  39.9 39.4 39.  39.  38.5 39.6 40.  40.  42.  42.  43.4\n",
            " 45.  44.5 45.5 46.  46.  45.5 45.4 45.4 47.  47.2 47.1 47.9 47.9 48.\n",
            " 45.  46.5 45.  46.5 46.9 46.9 46.4 46.5 46.5 48.  48.  49.  49.  48.\n",
            " 52.9 53.  53.9 53.  48.  47.2 48.5 49.5 52.  50.  50.9 50.9 49.9 50.\n",
            " 58.  60.  61.1 61.7 59.9 50.  60.  62.8 65.1 65.3 65.4 64.3 62.4 61.8\n",
            " 60.9 58.5 58.1 62.9 60.  64.9 64.9 62.  63.5 65.9 66.9 66.9 68.9 68.5\n",
            " 66.9 69.  70.  70.  71.  71.7 72.5 74.  74.9 73.  72.  74.  75.  75.\n",
            " 77.8 80.  78.  78.  79.7 83.5 82.  83.5 85.7 85.7 90.  92.1 91.  78.\n",
            " 80.  78.5 73.5 76.5 75.4 71.  70.  68.3]\n"
          ]
        }
      ]
    },
    {
      "cell_type": "code",
      "source": [
        "l = [1, 2, 3, 4, 5]"
      ],
      "metadata": {
        "id": "OSm45MYNqVZs"
      },
      "execution_count": null,
      "outputs": []
    },
    {
      "cell_type": "code",
      "source": [
        "len(l)"
      ],
      "metadata": {
        "id": "WFCKdgZFqXho"
      },
      "execution_count": null,
      "outputs": []
    },
    {
      "cell_type": "code",
      "source": [],
      "metadata": {
        "id": "9-M584iXs_FE"
      },
      "execution_count": null,
      "outputs": []
    }
  ]
}