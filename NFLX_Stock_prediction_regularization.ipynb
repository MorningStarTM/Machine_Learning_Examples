{
  "nbformat": 4,
  "nbformat_minor": 0,
  "metadata": {
    "colab": {
      "name": "NFLX_Stock_prediction_regularization.ipynb",
      "provenance": [],
      "collapsed_sections": []
    },
    "kernelspec": {
      "name": "python3",
      "display_name": "Python 3"
    },
    "language_info": {
      "name": "python"
    }
  },
  "cells": [
    {
      "cell_type": "code",
      "metadata": {
        "id": "KppnvCL7g2kx"
      },
      "source": [
        "import pandas as pd\n",
        "import numpy as np\n",
        "import matplotlib.pyplot as plt\n",
        "%matplotlib inline"
      ],
      "execution_count": 1,
      "outputs": []
    },
    {
      "cell_type": "code",
      "metadata": {
        "id": "iZu6EJtfhCNO"
      },
      "source": [
        "from sklearn.model_selection import train_test_split\n",
        "from sklearn.linear_model import LinearRegression"
      ],
      "execution_count": 2,
      "outputs": []
    },
    {
      "cell_type": "code",
      "metadata": {
        "colab": {
          "base_uri": "https://localhost:8080/",
          "height": 206
        },
        "id": "0qWeDzddhNV7",
        "outputId": "987bd888-f065-4eed-992b-5a4ef94dc25e"
      },
      "source": [
        "df = pd.read_csv('NFLX.csv')\n",
        "df.head()"
      ],
      "execution_count": 3,
      "outputs": [
        {
          "output_type": "execute_result",
          "data": {
            "text/html": [
              "<div>\n",
              "<style scoped>\n",
              "    .dataframe tbody tr th:only-of-type {\n",
              "        vertical-align: middle;\n",
              "    }\n",
              "\n",
              "    .dataframe tbody tr th {\n",
              "        vertical-align: top;\n",
              "    }\n",
              "\n",
              "    .dataframe thead th {\n",
              "        text-align: right;\n",
              "    }\n",
              "</style>\n",
              "<table border=\"1\" class=\"dataframe\">\n",
              "  <thead>\n",
              "    <tr style=\"text-align: right;\">\n",
              "      <th></th>\n",
              "      <th>Date</th>\n",
              "      <th>Open</th>\n",
              "      <th>High</th>\n",
              "      <th>Low</th>\n",
              "      <th>Close</th>\n",
              "      <th>Adj Close</th>\n",
              "      <th>Volume</th>\n",
              "    </tr>\n",
              "  </thead>\n",
              "  <tbody>\n",
              "    <tr>\n",
              "      <th>0</th>\n",
              "      <td>2002-05-23</td>\n",
              "      <td>1.156429</td>\n",
              "      <td>1.242857</td>\n",
              "      <td>1.145714</td>\n",
              "      <td>1.196429</td>\n",
              "      <td>1.196429</td>\n",
              "      <td>104790000</td>\n",
              "    </tr>\n",
              "    <tr>\n",
              "      <th>1</th>\n",
              "      <td>2002-05-24</td>\n",
              "      <td>1.214286</td>\n",
              "      <td>1.225000</td>\n",
              "      <td>1.197143</td>\n",
              "      <td>1.210000</td>\n",
              "      <td>1.210000</td>\n",
              "      <td>11104800</td>\n",
              "    </tr>\n",
              "    <tr>\n",
              "      <th>2</th>\n",
              "      <td>2002-05-28</td>\n",
              "      <td>1.213571</td>\n",
              "      <td>1.232143</td>\n",
              "      <td>1.157143</td>\n",
              "      <td>1.157143</td>\n",
              "      <td>1.157143</td>\n",
              "      <td>6609400</td>\n",
              "    </tr>\n",
              "    <tr>\n",
              "      <th>3</th>\n",
              "      <td>2002-05-29</td>\n",
              "      <td>1.164286</td>\n",
              "      <td>1.164286</td>\n",
              "      <td>1.085714</td>\n",
              "      <td>1.103571</td>\n",
              "      <td>1.103571</td>\n",
              "      <td>6757800</td>\n",
              "    </tr>\n",
              "    <tr>\n",
              "      <th>4</th>\n",
              "      <td>2002-05-30</td>\n",
              "      <td>1.107857</td>\n",
              "      <td>1.107857</td>\n",
              "      <td>1.071429</td>\n",
              "      <td>1.071429</td>\n",
              "      <td>1.071429</td>\n",
              "      <td>10154200</td>\n",
              "    </tr>\n",
              "  </tbody>\n",
              "</table>\n",
              "</div>"
            ],
            "text/plain": [
              "         Date      Open      High       Low     Close  Adj Close     Volume\n",
              "0  2002-05-23  1.156429  1.242857  1.145714  1.196429   1.196429  104790000\n",
              "1  2002-05-24  1.214286  1.225000  1.197143  1.210000   1.210000   11104800\n",
              "2  2002-05-28  1.213571  1.232143  1.157143  1.157143   1.157143    6609400\n",
              "3  2002-05-29  1.164286  1.164286  1.085714  1.103571   1.103571    6757800\n",
              "4  2002-05-30  1.107857  1.107857  1.071429  1.071429   1.071429   10154200"
            ]
          },
          "metadata": {},
          "execution_count": 3
        }
      ]
    },
    {
      "cell_type": "code",
      "metadata": {
        "id": "i0wmffdEhT0T"
      },
      "source": [
        "x = np.array(df['Open']).reshape(-1,1)\n",
        "y = df['Close']\n"
      ],
      "execution_count": 4,
      "outputs": []
    },
    {
      "cell_type": "code",
      "metadata": {
        "id": "qPXLR6uGhiiz"
      },
      "source": [
        "X_train,X_test,y_train,y_test = train_test_split(x,y,test_size=0.2)"
      ],
      "execution_count": 5,
      "outputs": []
    },
    {
      "cell_type": "code",
      "metadata": {
        "colab": {
          "base_uri": "https://localhost:8080/"
        },
        "id": "huVLk1eahyO7",
        "outputId": "1afb64a9-4f2e-4b17-8751-9077674d42ff"
      },
      "source": [
        "print(X_train.shape,X_test.shape,y_train.shape,y_test.shape)"
      ],
      "execution_count": 6,
      "outputs": [
        {
          "output_type": "stream",
          "name": "stdout",
          "text": [
            "(3899, 1) (975, 1) (3899,) (975,)\n"
          ]
        }
      ]
    },
    {
      "cell_type": "code",
      "metadata": {
        "id": "7ofskByjh8Zt"
      },
      "source": [
        "ln = LinearRegression()"
      ],
      "execution_count": 7,
      "outputs": []
    },
    {
      "cell_type": "code",
      "metadata": {
        "colab": {
          "base_uri": "https://localhost:8080/"
        },
        "id": "MqYaX-Egh3Tc",
        "outputId": "69ff9901-e8b7-4ac2-888e-e0e1eeb8e493"
      },
      "source": [
        "ln.fit(X_train,y_train)"
      ],
      "execution_count": 8,
      "outputs": [
        {
          "output_type": "execute_result",
          "data": {
            "text/plain": [
              "LinearRegression(copy_X=True, fit_intercept=True, n_jobs=None, normalize=False)"
            ]
          },
          "metadata": {},
          "execution_count": 8
        }
      ]
    },
    {
      "cell_type": "code",
      "metadata": {
        "colab": {
          "base_uri": "https://localhost:8080/"
        },
        "id": "PJq1bKNrh-oz",
        "outputId": "67618a42-6540-41a9-ba47-a88264233a3c"
      },
      "source": [
        "print(\"score: \",ln.score(X_test,y_test)*100)"
      ],
      "execution_count": 9,
      "outputs": [
        {
          "output_type": "stream",
          "name": "stdout",
          "text": [
            "score:  99.95371428571899\n"
          ]
        }
      ]
    },
    {
      "cell_type": "code",
      "metadata": {
        "colab": {
          "base_uri": "https://localhost:8080/"
        },
        "id": "OwxZvYi0iC6T",
        "outputId": "cfc5d4f3-978a-4a55-926a-8818ddf0eb2e"
      },
      "source": [
        "print(\"Score of trainin data: \",ln.score(X_train,y_train)*100)"
      ],
      "execution_count": 10,
      "outputs": [
        {
          "output_type": "stream",
          "name": "stdout",
          "text": [
            "Score of trainin data:  99.93855785198072\n"
          ]
        }
      ]
    },
    {
      "cell_type": "code",
      "metadata": {
        "colab": {
          "base_uri": "https://localhost:8080/"
        },
        "id": "QaScps7miLqL",
        "outputId": "2c66c3b4-02b0-47f4-daf1-5dfa7fa6c705"
      },
      "source": [
        "test  = np.array(x[0]).reshape(-1,1)\n",
        "test"
      ],
      "execution_count": 11,
      "outputs": [
        {
          "output_type": "execute_result",
          "data": {
            "text/plain": [
              "array([[1.156429]])"
            ]
          },
          "metadata": {},
          "execution_count": 11
        }
      ]
    },
    {
      "cell_type": "code",
      "metadata": {
        "colab": {
          "base_uri": "https://localhost:8080/"
        },
        "id": "CWuL8aSWiixM",
        "outputId": "c1afef11-a7c6-445b-e480-8c8bf35bf041"
      },
      "source": [
        "ln.predict(test)"
      ],
      "execution_count": 12,
      "outputs": [
        {
          "output_type": "execute_result",
          "data": {
            "text/plain": [
              "array([1.20908488])"
            ]
          },
          "metadata": {},
          "execution_count": 12
        }
      ]
    },
    {
      "cell_type": "code",
      "metadata": {
        "id": "EVOUQd6HjLZU"
      },
      "source": [
        "from sklearn.metrics import mean_squared_error"
      ],
      "execution_count": 13,
      "outputs": []
    },
    {
      "cell_type": "code",
      "metadata": {
        "colab": {
          "base_uri": "https://localhost:8080/"
        },
        "id": "lzl3jf1Wi6lb",
        "outputId": "b90e5cbe-8755-4986-e35b-48064bae66d1"
      },
      "source": [
        "y_pred = ln.predict(X_test)\n",
        "mse = mean_squared_error(y_test,y_pred)\n",
        "mse"
      ],
      "execution_count": 14,
      "outputs": [
        {
          "output_type": "execute_result",
          "data": {
            "text/plain": [
              "11.227087007820518"
            ]
          },
          "metadata": {},
          "execution_count": 14
        }
      ]
    },
    {
      "cell_type": "code",
      "metadata": {
        "colab": {
          "base_uri": "https://localhost:8080/"
        },
        "id": "metF7M6PjXqt",
        "outputId": "09872786-0bd3-4811-c4e5-a561dfd5d686"
      },
      "source": [
        "np.sqrt(mse)"
      ],
      "execution_count": 15,
      "outputs": [
        {
          "output_type": "execute_result",
          "data": {
            "text/plain": [
              "3.3506845580896627"
            ]
          },
          "metadata": {},
          "execution_count": 15
        }
      ]
    },
    {
      "cell_type": "markdown",
      "metadata": {
        "id": "GnhtSdZOmtaj"
      },
      "source": [
        "#Lasso Regression"
      ]
    },
    {
      "cell_type": "code",
      "metadata": {
        "id": "SAjcK4yjjn37"
      },
      "source": [
        "from sklearn.linear_model import Lasso\n",
        "from sklearn.model_selection import GridSearchCV"
      ],
      "execution_count": 16,
      "outputs": []
    },
    {
      "cell_type": "code",
      "metadata": {
        "colab": {
          "base_uri": "https://localhost:8080/"
        },
        "id": "gCgiCNOem5_l",
        "outputId": "55795dbb-6c27-415d-e65b-c38afb2b19b2"
      },
      "source": [
        "ls = Lasso()\n",
        "param = {'alpha':[1e-30,1e-20,1e-18,1e-15,1e-10,1e-8,1e-3,1e-2]}\n",
        "lasso_regressor = GridSearchCV(ls,param,scoring='neg_mean_squared_error',cv=5)\n",
        "lasso_regressor.fit(x,y)"
      ],
      "execution_count": 21,
      "outputs": [
        {
          "output_type": "stream",
          "name": "stderr",
          "text": [
            "/usr/local/lib/python3.7/dist-packages/sklearn/linear_model/_coordinate_descent.py:476: ConvergenceWarning: Objective did not converge. You might want to increase the number of iterations. Duality gap: 34602.88233889168, tolerance: 10576.397378701584\n",
            "  positive)\n",
            "/usr/local/lib/python3.7/dist-packages/sklearn/linear_model/_coordinate_descent.py:476: ConvergenceWarning: Objective did not converge. You might want to increase the number of iterations. Duality gap: 34600.07366050153, tolerance: 10625.702441606496\n",
            "  positive)\n",
            "/usr/local/lib/python3.7/dist-packages/sklearn/linear_model/_coordinate_descent.py:476: ConvergenceWarning: Objective did not converge. You might want to increase the number of iterations. Duality gap: 34365.133543164084, tolerance: 11031.085210635869\n",
            "  positive)\n",
            "/usr/local/lib/python3.7/dist-packages/sklearn/linear_model/_coordinate_descent.py:476: ConvergenceWarning: Objective did not converge. You might want to increase the number of iterations. Duality gap: 32660.717522443334, tolerance: 11689.92353889309\n",
            "  positive)\n",
            "/usr/local/lib/python3.7/dist-packages/sklearn/linear_model/_coordinate_descent.py:476: ConvergenceWarning: Objective did not converge. You might want to increase the number of iterations. Duality gap: 2201.367645322047, tolerance: 811.4411059126954\n",
            "  positive)\n",
            "/usr/local/lib/python3.7/dist-packages/sklearn/linear_model/_coordinate_descent.py:476: ConvergenceWarning: Objective did not converge. You might want to increase the number of iterations. Duality gap: 34602.88144066333, tolerance: 10576.397378701584\n",
            "  positive)\n",
            "/usr/local/lib/python3.7/dist-packages/sklearn/linear_model/_coordinate_descent.py:476: ConvergenceWarning: Objective did not converge. You might want to increase the number of iterations. Duality gap: 34600.073537726734, tolerance: 10625.702441606496\n",
            "  positive)\n",
            "/usr/local/lib/python3.7/dist-packages/sklearn/linear_model/_coordinate_descent.py:476: ConvergenceWarning: Objective did not converge. You might want to increase the number of iterations. Duality gap: 34365.13344077099, tolerance: 11031.085210635869\n",
            "  positive)\n",
            "/usr/local/lib/python3.7/dist-packages/sklearn/linear_model/_coordinate_descent.py:476: ConvergenceWarning: Objective did not converge. You might want to increase the number of iterations. Duality gap: 32660.716889243293, tolerance: 11689.92353889309\n",
            "  positive)\n",
            "/usr/local/lib/python3.7/dist-packages/sklearn/linear_model/_coordinate_descent.py:476: ConvergenceWarning: Objective did not converge. You might want to increase the number of iterations. Duality gap: 2201.3675630680505, tolerance: 811.4411059126954\n",
            "  positive)\n",
            "/usr/local/lib/python3.7/dist-packages/sklearn/linear_model/_coordinate_descent.py:476: ConvergenceWarning: Objective did not converge. You might want to increase the number of iterations. Duality gap: 34602.79251611465, tolerance: 10576.397378701584\n",
            "  positive)\n",
            "/usr/local/lib/python3.7/dist-packages/sklearn/linear_model/_coordinate_descent.py:476: ConvergenceWarning: Objective did not converge. You might want to increase the number of iterations. Duality gap: 34600.06138302286, tolerance: 10625.702441606496\n",
            "  positive)\n",
            "/usr/local/lib/python3.7/dist-packages/sklearn/linear_model/_coordinate_descent.py:476: ConvergenceWarning: Objective did not converge. You might want to increase the number of iterations. Duality gap: 34365.12330385539, tolerance: 11031.085210635869\n",
            "  positive)\n",
            "/usr/local/lib/python3.7/dist-packages/sklearn/linear_model/_coordinate_descent.py:476: ConvergenceWarning: Objective did not converge. You might want to increase the number of iterations. Duality gap: 32660.654202469483, tolerance: 11689.92353889309\n",
            "  positive)\n",
            "/usr/local/lib/python3.7/dist-packages/sklearn/linear_model/_coordinate_descent.py:476: ConvergenceWarning: Objective did not converge. You might want to increase the number of iterations. Duality gap: 2201.359419930005, tolerance: 811.4411059126954\n",
            "  positive)\n",
            "/usr/local/lib/python3.7/dist-packages/sklearn/linear_model/_coordinate_descent.py:476: ConvergenceWarning: Objective did not converge. You might want to increase the number of iterations. Duality gap: 34513.1177945415, tolerance: 10576.397378701584\n",
            "  positive)\n",
            "/usr/local/lib/python3.7/dist-packages/sklearn/linear_model/_coordinate_descent.py:476: ConvergenceWarning: Objective did not converge. You might want to increase the number of iterations. Duality gap: 34587.797269874885, tolerance: 10625.702441606496\n",
            "  positive)\n",
            "/usr/local/lib/python3.7/dist-packages/sklearn/linear_model/_coordinate_descent.py:476: ConvergenceWarning: Objective did not converge. You might want to increase the number of iterations. Duality gap: 34354.89499642667, tolerance: 11031.085210635869\n",
            "  positive)\n",
            "/usr/local/lib/python3.7/dist-packages/sklearn/linear_model/_coordinate_descent.py:476: ConvergenceWarning: Objective did not converge. You might want to increase the number of iterations. Duality gap: 32597.428207850535, tolerance: 11689.92353889309\n",
            "  positive)\n",
            "/usr/local/lib/python3.7/dist-packages/sklearn/linear_model/_coordinate_descent.py:476: ConvergenceWarning: Objective did not converge. You might want to increase the number of iterations. Duality gap: 2193.149929138375, tolerance: 811.4411059126954\n",
            "  positive)\n",
            "/usr/local/lib/python3.7/dist-packages/sklearn/linear_model/_coordinate_descent.py:476: ConvergenceWarning: Objective did not converge. You might want to increase the number of iterations. Duality gap: 34607.932721228084, tolerance: 11849.868238712104\n",
            "  positive)\n"
          ]
        },
        {
          "output_type": "execute_result",
          "data": {
            "text/plain": [
              "GridSearchCV(cv=5, error_score=nan,\n",
              "             estimator=Lasso(alpha=1.0, copy_X=True, fit_intercept=True,\n",
              "                             max_iter=1000, normalize=False, positive=False,\n",
              "                             precompute=False, random_state=None,\n",
              "                             selection='cyclic', tol=0.0001, warm_start=False),\n",
              "             iid='deprecated', n_jobs=None,\n",
              "             param_grid={'alpha': [1e-30, 1e-20, 1e-18, 1e-15, 1e-10, 1e-08,\n",
              "                                   0.001, 0.01]},\n",
              "             pre_dispatch='2*n_jobs', refit=True, return_train_score=False,\n",
              "             scoring='neg_mean_squared_error', verbose=0)"
            ]
          },
          "metadata": {},
          "execution_count": 21
        }
      ]
    },
    {
      "cell_type": "code",
      "metadata": {
        "colab": {
          "base_uri": "https://localhost:8080/"
        },
        "id": "ebovrzy2ngp0",
        "outputId": "e74a779a-9901-4fba-e94b-be28d5761007"
      },
      "source": [
        "print(lasso_regressor.best_params_)\n",
        "print(lasso_regressor.best_score_)"
      ],
      "execution_count": 22,
      "outputs": [
        {
          "output_type": "stream",
          "name": "stdout",
          "text": [
            "{'alpha': 1e-30}\n",
            "-14.213770817307275\n"
          ]
        }
      ]
    },
    {
      "cell_type": "markdown",
      "metadata": {
        "id": "zpJIqqv3n2Sj"
      },
      "source": [
        "#Ridge Regressor"
      ]
    },
    {
      "cell_type": "code",
      "metadata": {
        "colab": {
          "base_uri": "https://localhost:8080/"
        },
        "id": "4fvWRkrDnnkE",
        "outputId": "e24c25de-0d9a-419c-ae6f-4fc19ddf1e54"
      },
      "source": [
        "from sklearn.linear_model import Ridge\n",
        "rg = Ridge()\n",
        "param = {'alpha':[1e-30,1e-20,1e-18,1e-15,1e-10,1e-8,1e-3,1e-2]}\n",
        "ridge_regressor = GridSearchCV(rg,param,scoring='neg_mean_squared_error',cv=5)\n",
        "ridge_regressor.fit(x,y)"
      ],
      "execution_count": 23,
      "outputs": [
        {
          "output_type": "execute_result",
          "data": {
            "text/plain": [
              "GridSearchCV(cv=5, error_score=nan,\n",
              "             estimator=Ridge(alpha=1.0, copy_X=True, fit_intercept=True,\n",
              "                             max_iter=None, normalize=False, random_state=None,\n",
              "                             solver='auto', tol=0.001),\n",
              "             iid='deprecated', n_jobs=None,\n",
              "             param_grid={'alpha': [1e-30, 1e-20, 1e-18, 1e-15, 1e-10, 1e-08,\n",
              "                                   0.001, 0.01]},\n",
              "             pre_dispatch='2*n_jobs', refit=True, return_train_score=False,\n",
              "             scoring='neg_mean_squared_error', verbose=0)"
            ]
          },
          "metadata": {},
          "execution_count": 23
        }
      ]
    },
    {
      "cell_type": "code",
      "metadata": {
        "colab": {
          "base_uri": "https://localhost:8080/"
        },
        "id": "W6qPhjnWoE4U",
        "outputId": "cf04088b-0c8c-4b1e-fe5c-f65a93c043ed"
      },
      "source": [
        "print(ridge_regressor.best_params_)\n",
        "print(ridge_regressor.best_score_)"
      ],
      "execution_count": 24,
      "outputs": [
        {
          "output_type": "stream",
          "name": "stdout",
          "text": [
            "{'alpha': 1e-30}\n",
            "-14.213770817307273\n"
          ]
        }
      ]
    },
    {
      "cell_type": "code",
      "metadata": {
        "id": "7rHa-WP3oLac"
      },
      "source": [
        "l_pred = lasso_regressor.predict(X_test)\n",
        "r_pred = ridge_regressor.predict(X_test)"
      ],
      "execution_count": 25,
      "outputs": []
    },
    {
      "cell_type": "code",
      "metadata": {
        "id": "glICVwAiocI8"
      },
      "source": [
        "import seaborn as sns\n"
      ],
      "execution_count": 28,
      "outputs": []
    },
    {
      "cell_type": "code",
      "metadata": {
        "colab": {
          "base_uri": "https://localhost:8080/",
          "height": 352
        },
        "id": "7Jv5oacOosHK",
        "outputId": "3a7153dc-cf5c-4ac3-9835-d0a5ae4a9910"
      },
      "source": [
        "sns.distplot(y_test-l_pred)"
      ],
      "execution_count": 29,
      "outputs": [
        {
          "output_type": "stream",
          "name": "stderr",
          "text": [
            "/usr/local/lib/python3.7/dist-packages/seaborn/distributions.py:2619: FutureWarning: `distplot` is a deprecated function and will be removed in a future version. Please adapt your code to use either `displot` (a figure-level function with similar flexibility) or `histplot` (an axes-level function for histograms).\n",
            "  warnings.warn(msg, FutureWarning)\n"
          ]
        },
        {
          "output_type": "execute_result",
          "data": {
            "text/plain": [
              "<matplotlib.axes._subplots.AxesSubplot at 0x7f9fb8b88a50>"
            ]
          },
          "metadata": {},
          "execution_count": 29
        },
        {
          "output_type": "display_data",
          "data": {
            "image/png": "[encoded data removed]",
            "text/plain": [
              "<Figure size 432x288 with 1 Axes>"
            ]
          },
          "metadata": {
            "needs_background": "light"
          }
        }
      ]
    },
    {
      "cell_type": "code",
      "metadata": {
        "colab": {
          "base_uri": "https://localhost:8080/",
          "height": 352
        },
        "id": "4uIxO_LBowg8",
        "outputId": "420c1790-0055-482c-9465-41018aecdbd3"
      },
      "source": [
        "sns.distplot(y_test-r_pred)"
      ],
      "execution_count": 30,
      "outputs": [
        {
          "output_type": "stream",
          "name": "stderr",
          "text": [
            "/usr/local/lib/python3.7/dist-packages/seaborn/distributions.py:2619: FutureWarning: `distplot` is a deprecated function and will be removed in a future version. Please adapt your code to use either `displot` (a figure-level function with similar flexibility) or `histplot` (an axes-level function for histograms).\n",
            "  warnings.warn(msg, FutureWarning)\n"
          ]
        },
        {
          "output_type": "execute_result",
          "data": {
            "text/plain": [
              "<matplotlib.axes._subplots.AxesSubplot at 0x7f9fb7fa2a50>"
            ]
          },
          "metadata": {},
          "execution_count": 30
        },
        {
          "output_type": "display_data",
          "data": {
            "image/png": "[encoded data removed]",
            "text/plain": [
              "<Figure size 432x288 with 1 Axes>"
            ]
          },
          "metadata": {
            "needs_background": "light"
          }
        }
      ]
    },
    {
      "cell_type": "code",
      "metadata": {
        "colab": {
          "base_uri": "https://localhost:8080/"
        },
        "id": "m1UdDzIXo0mk",
        "outputId": "94ffddf4-fb41-4dc7-fe49-c14b5c90cf75"
      },
      "source": [
        "lasso_regressor.predict(test)"
      ],
      "execution_count": 31,
      "outputs": [
        {
          "output_type": "execute_result",
          "data": {
            "text/plain": [
              "array([1.19272379])"
            ]
          },
          "metadata": {},
          "execution_count": 31
        }
      ]
    },
    {
      "cell_type": "code",
      "metadata": {
        "colab": {
          "base_uri": "https://localhost:8080/"
        },
        "id": "pBy3p6N_pY3k",
        "outputId": "8f2abead-13f1-41d8-9fe7-afbe0e2e35b2"
      },
      "source": [
        "ridge_regressor.predict(test)"
      ],
      "execution_count": 33,
      "outputs": [
        {
          "output_type": "execute_result",
          "data": {
            "text/plain": [
              "array([1.19272379])"
            ]
          },
          "metadata": {},
          "execution_count": 33
        }
      ]
    },
    {
      "cell_type": "code",
      "metadata": {
        "id": "e1Zm8hUwphQs"
      },
      "source": [
        ""
      ],
      "execution_count": null,
      "outputs": []
    }
  ]
}