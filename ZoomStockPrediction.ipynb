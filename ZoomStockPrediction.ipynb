{
  "nbformat": 4,
  "nbformat_minor": 0,
  "metadata": {
    "colab": {
      "name": "ZoomStockPrediction.ipynb",
      "provenance": [],
      "collapsed_sections": []
    },
    "kernelspec": {
      "name": "python3",
      "display_name": "Python 3"
    },
    "language_info": {
      "name": "python"
    }
  },
  "cells": [
    {
      "cell_type": "code",
      "metadata": {
        "id": "dOPSMAxYcNKu"
      },
      "source": [
        "import pandas as pd\n",
        "from sklearn.model_selection import train_test_split\n",
        "from sklearn.linear_model import LinearRegression"
      ],
      "execution_count": null,
      "outputs": []
    },
    {
      "cell_type": "code",
      "metadata": {
        "colab": {
          "base_uri": "https://localhost:8080/",
          "height": 206
        },
        "id": "Vjb9d0AzcpzM",
        "outputId": "e35e2725-402f-4d0d-8f47-8c233e9cbf58"
      },
      "source": [
        "df = pd.read_csv(\"Zoom.csv\")\n",
        "df.head()"
      ],
      "execution_count": null,
      "outputs": [
        {
          "output_type": "execute_result",
          "data": {
            "text/html": [
              "<div>\n",
              "<style scoped>\n",
              "    .dataframe tbody tr th:only-of-type {\n",
              "        vertical-align: middle;\n",
              "    }\n",
              "\n",
              "    .dataframe tbody tr th {\n",
              "        vertical-align: top;\n",
              "    }\n",
              "\n",
              "    .dataframe thead th {\n",
              "        text-align: right;\n",
              "    }\n",
              "</style>\n",
              "<table border=\"1\" class=\"dataframe\">\n",
              "  <thead>\n",
              "    <tr style=\"text-align: right;\">\n",
              "      <th></th>\n",
              "      <th>Date</th>\n",
              "      <th>Open</th>\n",
              "      <th>High</th>\n",
              "      <th>Low</th>\n",
              "      <th>Close</th>\n",
              "      <th>Adj Close</th>\n",
              "      <th>Volume</th>\n",
              "    </tr>\n",
              "  </thead>\n",
              "  <tbody>\n",
              "    <tr>\n",
              "      <th>0</th>\n",
              "      <td>2019-04-18</td>\n",
              "      <td>65.000000</td>\n",
              "      <td>66.000000</td>\n",
              "      <td>60.320999</td>\n",
              "      <td>62.000000</td>\n",
              "      <td>62.000000</td>\n",
              "      <td>25764700</td>\n",
              "    </tr>\n",
              "    <tr>\n",
              "      <th>1</th>\n",
              "      <td>2019-04-22</td>\n",
              "      <td>61.000000</td>\n",
              "      <td>68.900002</td>\n",
              "      <td>59.939999</td>\n",
              "      <td>65.699997</td>\n",
              "      <td>65.699997</td>\n",
              "      <td>9949700</td>\n",
              "    </tr>\n",
              "    <tr>\n",
              "      <th>2</th>\n",
              "      <td>2019-04-23</td>\n",
              "      <td>66.870003</td>\n",
              "      <td>74.168999</td>\n",
              "      <td>65.550003</td>\n",
              "      <td>69.000000</td>\n",
              "      <td>69.000000</td>\n",
              "      <td>6786500</td>\n",
              "    </tr>\n",
              "    <tr>\n",
              "      <th>3</th>\n",
              "      <td>2019-04-24</td>\n",
              "      <td>71.400002</td>\n",
              "      <td>71.500000</td>\n",
              "      <td>63.160000</td>\n",
              "      <td>63.200001</td>\n",
              "      <td>63.200001</td>\n",
              "      <td>4973500</td>\n",
              "    </tr>\n",
              "    <tr>\n",
              "      <th>4</th>\n",
              "      <td>2019-04-25</td>\n",
              "      <td>64.739998</td>\n",
              "      <td>66.849998</td>\n",
              "      <td>62.599998</td>\n",
              "      <td>65.000000</td>\n",
              "      <td>65.000000</td>\n",
              "      <td>3863300</td>\n",
              "    </tr>\n",
              "  </tbody>\n",
              "</table>\n",
              "</div>"
            ],
            "text/plain": [
              "         Date       Open       High        Low      Close  Adj Close    Volume\n",
              "0  2019-04-18  65.000000  66.000000  60.320999  62.000000  62.000000  25764700\n",
              "1  2019-04-22  61.000000  68.900002  59.939999  65.699997  65.699997   9949700\n",
              "2  2019-04-23  66.870003  74.168999  65.550003  69.000000  69.000000   6786500\n",
              "3  2019-04-24  71.400002  71.500000  63.160000  63.200001  63.200001   4973500\n",
              "4  2019-04-25  64.739998  66.849998  62.599998  65.000000  65.000000   3863300"
            ]
          },
          "metadata": {},
          "execution_count": 31
        }
      ]
    },
    {
      "cell_type": "code",
      "metadata": {
        "colab": {
          "base_uri": "https://localhost:8080/"
        },
        "id": "KeBiE2-Ecxdr",
        "outputId": "7922747f-688f-4efa-b746-9e939c3ba725"
      },
      "source": [
        "df.info()"
      ],
      "execution_count": null,
      "outputs": [
        {
          "output_type": "stream",
          "name": "stdout",
          "text": [
            "<class 'pandas.core.frame.DataFrame'>\n",
            "RangeIndex: 613 entries, 0 to 612\n",
            "Data columns (total 7 columns):\n",
            " #   Column     Non-Null Count  Dtype  \n",
            "---  ------     --------------  -----  \n",
            " 0   Date       613 non-null    object \n",
            " 1   Open       613 non-null    float64\n",
            " 2   High       613 non-null    float64\n",
            " 3   Low        613 non-null    float64\n",
            " 4   Close      613 non-null    float64\n",
            " 5   Adj Close  613 non-null    float64\n",
            " 6   Volume     613 non-null    int64  \n",
            "dtypes: float64(5), int64(1), object(1)\n",
            "memory usage: 33.6+ KB\n"
          ]
        }
      ]
    },
    {
      "cell_type": "code",
      "metadata": {
        "id": "jcs3W9s9d1YB"
      },
      "source": [
        "import numpy as np"
      ],
      "execution_count": null,
      "outputs": []
    },
    {
      "cell_type": "code",
      "metadata": {
        "id": "8fPQQGItc-a7"
      },
      "source": [
        "x = np.array(df['Open']).reshape(-1,1)\n",
        "y = df['Close']"
      ],
      "execution_count": null,
      "outputs": []
    },
    {
      "cell_type": "code",
      "metadata": {
        "id": "P8VyMEYfdE38"
      },
      "source": [
        "X_train,X_test,y_train,y_test = train_test_split(x,y,test_size=0.2)"
      ],
      "execution_count": null,
      "outputs": []
    },
    {
      "cell_type": "code",
      "metadata": {
        "colab": {
          "base_uri": "https://localhost:8080/"
        },
        "id": "W3reNlcIdRBC",
        "outputId": "daa0e4ac-8d6e-45d9-cfb9-c82a5bd14d4b"
      },
      "source": [
        "print(X_train.shape,X_test.shape,y_train.shape,y_test.shape)"
      ],
      "execution_count": null,
      "outputs": [
        {
          "output_type": "stream",
          "name": "stdout",
          "text": [
            "(490, 1) (123, 1) (490,) (123,)\n"
          ]
        }
      ]
    },
    {
      "cell_type": "code",
      "metadata": {
        "id": "oBKOKbhQdW3U"
      },
      "source": [
        "ln = LinearRegression()"
      ],
      "execution_count": null,
      "outputs": []
    },
    {
      "cell_type": "code",
      "metadata": {
        "colab": {
          "base_uri": "https://localhost:8080/"
        },
        "id": "LEoTcH9Hdfgr",
        "outputId": "533fd9d2-21be-4984-bc24-9b034f065dfa"
      },
      "source": [
        "ln.fit(X_train,y_train)"
      ],
      "execution_count": null,
      "outputs": [
        {
          "output_type": "execute_result",
          "data": {
            "text/plain": [
              "LinearRegression(copy_X=True, fit_intercept=True, n_jobs=None, normalize=False)"
            ]
          },
          "metadata": {},
          "execution_count": 38
        }
      ]
    },
    {
      "cell_type": "code",
      "metadata": {
        "colab": {
          "base_uri": "https://localhost:8080/"
        },
        "id": "JcffDiCFdis7",
        "outputId": "29f95983-e592-4a62-9acb-f366a492f3ea"
      },
      "source": [
        "print(\"Score: \",ln.score(X_test,y_test)*100)"
      ],
      "execution_count": null,
      "outputs": [
        {
          "output_type": "stream",
          "name": "stdout",
          "text": [
            "Score:  99.66751606852792\n"
          ]
        }
      ]
    },
    {
      "cell_type": "code",
      "metadata": {
        "colab": {
          "base_uri": "https://localhost:8080/"
        },
        "id": "DHJtJdZUeBaT",
        "outputId": "794d52e7-ab7a-49be-eb1e-2bfea6ae052d"
      },
      "source": [
        "print(\"Score: \",ln.score(X_train,y_train))"
      ],
      "execution_count": null,
      "outputs": [
        {
          "output_type": "stream",
          "name": "stdout",
          "text": [
            "Score:  0.9957226817568023\n"
          ]
        }
      ]
    },
    {
      "cell_type": "code",
      "metadata": {
        "id": "3pOiAEseeJ2z"
      },
      "source": [
        "import matplotlib.pyplot as plt\n",
        "%matplotlib inline"
      ],
      "execution_count": null,
      "outputs": []
    },
    {
      "cell_type": "code",
      "metadata": {
        "colab": {
          "base_uri": "https://localhost:8080/",
          "height": 282
        },
        "id": "IAoJTnOFeRpD",
        "outputId": "62394819-33b8-4067-ec8a-aa9c52be044c"
      },
      "source": [
        "plt.scatter(X_test,y_test,marker='o')\n",
        "plt.scatter(X_test,ln.predict(X_test),marker='+')\n"
      ],
      "execution_count": null,
      "outputs": [
        {
          "output_type": "execute_result",
          "data": {
            "text/plain": [
              "<matplotlib.collections.PathCollection at 0x7fac912dadd0>"
            ]
          },
          "metadata": {},
          "execution_count": 42
        },
        {
          "output_type": "display_data",
          "data": {
            "image/png": "[encoded data removed]",
            "text/plain": [
              "<Figure size 432x288 with 1 Axes>"
            ]
          },
          "metadata": {
            "needs_background": "light"
          }
        }
      ]
    },
    {
      "cell_type": "code",
      "metadata": {
        "colab": {
          "base_uri": "https://localhost:8080/"
        },
        "id": "pwOTShkpec5S",
        "outputId": "5c424e8e-2fa5-4459-993e-da25449c45f2"
      },
      "source": [
        "test = np.array(x[2]).reshape(-1,1)\n",
        "ln.predict(test)"
      ],
      "execution_count": null,
      "outputs": [
        {
          "output_type": "execute_result",
          "data": {
            "text/plain": [
              "array([67.85414414])"
            ]
          },
          "metadata": {},
          "execution_count": 43
        }
      ]
    },
    {
      "cell_type": "code",
      "metadata": {
        "id": "FnFm1IgXfwTM"
      },
      "source": [
        "from sklearn.metrics import mean_squared_error"
      ],
      "execution_count": 49,
      "outputs": []
    },
    {
      "cell_type": "code",
      "metadata": {
        "colab": {
          "base_uri": "https://localhost:8080/"
        },
        "id": "yjMoBq1IkalW",
        "outputId": "b54c1cc9-fdc6-4007-9d94-0cc6c6f39729"
      },
      "source": [
        "y_pred = ln.predict(X_test)\n",
        "mse = mean_squared_error(y_test,y_pred)\n",
        "mse"
      ],
      "execution_count": 50,
      "outputs": [
        {
          "output_type": "execute_result",
          "data": {
            "text/plain": [
              "67.49421845067232"
            ]
          },
          "metadata": {},
          "execution_count": 50
        }
      ]
    },
    {
      "cell_type": "code",
      "metadata": {
        "colab": {
          "base_uri": "https://localhost:8080/"
        },
        "id": "8O5sL1UXkiq8",
        "outputId": "47ee3c74-7356-4e18-e5de-8d37d42c8b33"
      },
      "source": [
        "np.sqrt(mse)"
      ],
      "execution_count": 51,
      "outputs": [
        {
          "output_type": "execute_result",
          "data": {
            "text/plain": [
              "8.215486501155748"
            ]
          },
          "metadata": {},
          "execution_count": 51
        }
      ]
    },
    {
      "cell_type": "code",
      "metadata": {
        "id": "oQd4Y8u0ksEL"
      },
      "source": [
        ""
      ],
      "execution_count": null,
      "outputs": []
    }
  ]
}