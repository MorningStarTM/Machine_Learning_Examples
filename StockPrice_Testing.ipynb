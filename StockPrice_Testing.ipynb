{
  "nbformat": 4,
  "nbformat_minor": 0,
  "metadata": {
    "colab": {
      "name": "StockPrice_Testing.ipynb",
      "provenance": [],
      "collapsed_sections": []
    },
    "kernelspec": {
      "name": "python3",
      "display_name": "Python 3"
    },
    "language_info": {
      "name": "python"
    }
  },
  "cells": [
    {
      "cell_type": "code",
      "metadata": {
        "id": "Bh1QvPQw8_59"
      },
      "source": [
        "import pandas as pd\n",
        "import matplotlib.pyplot as plt\n",
        "import numpy as np\n",
        "%matplotlib inline"
      ],
      "execution_count": 1,
      "outputs": []
    },
    {
      "cell_type": "code",
      "metadata": {
        "colab": {
          "base_uri": "https://localhost:8080/"
        },
        "id": "DmGNAg_99e-r",
        "outputId": "10387a8a-ef34-4744-92bc-b47d205cbe46"
      },
      "source": [
        "lmt = pd.read_csv('LMT.csv')\n",
        "lmt.shape"
      ],
      "execution_count": 16,
      "outputs": [
        {
          "output_type": "execute_result",
          "data": {
            "text/plain": [
              "(251, 7)"
            ]
          },
          "metadata": {},
          "execution_count": 16
        }
      ]
    },
    {
      "cell_type": "code",
      "metadata": {
        "colab": {
          "base_uri": "https://localhost:8080/",
          "height": 204
        },
        "id": "ck5N4cgk9m1R",
        "outputId": "cf2aa102-bb99-4ba8-e77c-3af650cc0491"
      },
      "source": [
        "lmt.head()"
      ],
      "execution_count": 17,
      "outputs": [
        {
          "output_type": "execute_result",
          "data": {
            "text/html": [
              "<div>\n",
              "<style scoped>\n",
              "    .dataframe tbody tr th:only-of-type {\n",
              "        vertical-align: middle;\n",
              "    }\n",
              "\n",
              "    .dataframe tbody tr th {\n",
              "        vertical-align: top;\n",
              "    }\n",
              "\n",
              "    .dataframe thead th {\n",
              "        text-align: right;\n",
              "    }\n",
              "</style>\n",
              "<table border=\"1\" class=\"dataframe\">\n",
              "  <thead>\n",
              "    <tr style=\"text-align: right;\">\n",
              "      <th></th>\n",
              "      <th>Date</th>\n",
              "      <th>Open</th>\n",
              "      <th>High</th>\n",
              "      <th>Low</th>\n",
              "      <th>Close</th>\n",
              "      <th>Adj Close</th>\n",
              "      <th>Volume</th>\n",
              "    </tr>\n",
              "  </thead>\n",
              "  <tbody>\n",
              "    <tr>\n",
              "      <th>0</th>\n",
              "      <td>1/4/2021</td>\n",
              "      <td>354.980011</td>\n",
              "      <td>354.980011</td>\n",
              "      <td>341.070007</td>\n",
              "      <td>344.640015</td>\n",
              "      <td>337.282410</td>\n",
              "      <td>1887200</td>\n",
              "    </tr>\n",
              "    <tr>\n",
              "      <th>1</th>\n",
              "      <td>1/5/2021</td>\n",
              "      <td>344.640015</td>\n",
              "      <td>351.190002</td>\n",
              "      <td>343.299988</td>\n",
              "      <td>348.790009</td>\n",
              "      <td>341.343811</td>\n",
              "      <td>1479100</td>\n",
              "    </tr>\n",
              "    <tr>\n",
              "      <th>2</th>\n",
              "      <td>1/6/2021</td>\n",
              "      <td>343.000000</td>\n",
              "      <td>351.920013</td>\n",
              "      <td>342.779999</td>\n",
              "      <td>348.029999</td>\n",
              "      <td>340.600037</td>\n",
              "      <td>1897500</td>\n",
              "    </tr>\n",
              "    <tr>\n",
              "      <th>3</th>\n",
              "      <td>1/7/2021</td>\n",
              "      <td>344.359985</td>\n",
              "      <td>347.850006</td>\n",
              "      <td>341.339996</td>\n",
              "      <td>342.549988</td>\n",
              "      <td>335.237000</td>\n",
              "      <td>2048900</td>\n",
              "    </tr>\n",
              "    <tr>\n",
              "      <th>4</th>\n",
              "      <td>1/8/2021</td>\n",
              "      <td>341.880005</td>\n",
              "      <td>343.470001</td>\n",
              "      <td>335.010010</td>\n",
              "      <td>336.100006</td>\n",
              "      <td>328.924713</td>\n",
              "      <td>3226300</td>\n",
              "    </tr>\n",
              "  </tbody>\n",
              "</table>\n",
              "</div>"
            ],
            "text/plain": [
              "       Date        Open        High  ...       Close   Adj Close   Volume\n",
              "0  1/4/2021  354.980011  354.980011  ...  344.640015  337.282410  1887200\n",
              "1  1/5/2021  344.640015  351.190002  ...  348.790009  341.343811  1479100\n",
              "2  1/6/2021  343.000000  351.920013  ...  348.029999  340.600037  1897500\n",
              "3  1/7/2021  344.359985  347.850006  ...  342.549988  335.237000  2048900\n",
              "4  1/8/2021  341.880005  343.470001  ...  336.100006  328.924713  3226300\n",
              "\n",
              "[5 rows x 7 columns]"
            ]
          },
          "metadata": {},
          "execution_count": 17
        }
      ]
    },
    {
      "cell_type": "code",
      "metadata": {
        "colab": {
          "base_uri": "https://localhost:8080/",
          "height": 359
        },
        "id": "NdLMYegg_euK",
        "outputId": "7d9df565-f20b-4fea-9dca-50529c2eb1b2"
      },
      "source": [
        "lmt.tail(10)"
      ],
      "execution_count": 18,
      "outputs": [
        {
          "output_type": "execute_result",
          "data": {
            "text/html": [
              "<div>\n",
              "<style scoped>\n",
              "    .dataframe tbody tr th:only-of-type {\n",
              "        vertical-align: middle;\n",
              "    }\n",
              "\n",
              "    .dataframe tbody tr th {\n",
              "        vertical-align: top;\n",
              "    }\n",
              "\n",
              "    .dataframe thead th {\n",
              "        text-align: right;\n",
              "    }\n",
              "</style>\n",
              "<table border=\"1\" class=\"dataframe\">\n",
              "  <thead>\n",
              "    <tr style=\"text-align: right;\">\n",
              "      <th></th>\n",
              "      <th>Date</th>\n",
              "      <th>Open</th>\n",
              "      <th>High</th>\n",
              "      <th>Low</th>\n",
              "      <th>Close</th>\n",
              "      <th>Adj Close</th>\n",
              "      <th>Volume</th>\n",
              "    </tr>\n",
              "  </thead>\n",
              "  <tbody>\n",
              "    <tr>\n",
              "      <th>241</th>\n",
              "      <td>12/17/2020</td>\n",
              "      <td>355.929993</td>\n",
              "      <td>357.660004</td>\n",
              "      <td>351.880005</td>\n",
              "      <td>352.600006</td>\n",
              "      <td>345.072479</td>\n",
              "      <td>1658100</td>\n",
              "    </tr>\n",
              "    <tr>\n",
              "      <th>242</th>\n",
              "      <td>12/18/2020</td>\n",
              "      <td>352.040009</td>\n",
              "      <td>356.790009</td>\n",
              "      <td>350.010010</td>\n",
              "      <td>356.029999</td>\n",
              "      <td>348.429230</td>\n",
              "      <td>4342000</td>\n",
              "    </tr>\n",
              "    <tr>\n",
              "      <th>243</th>\n",
              "      <td>12/21/2020</td>\n",
              "      <td>353.160004</td>\n",
              "      <td>353.940002</td>\n",
              "      <td>346.600006</td>\n",
              "      <td>349.350006</td>\n",
              "      <td>341.891876</td>\n",
              "      <td>2128700</td>\n",
              "    </tr>\n",
              "    <tr>\n",
              "      <th>244</th>\n",
              "      <td>12/22/2020</td>\n",
              "      <td>349.350006</td>\n",
              "      <td>350.619995</td>\n",
              "      <td>347.390015</td>\n",
              "      <td>347.920013</td>\n",
              "      <td>340.492371</td>\n",
              "      <td>1820800</td>\n",
              "    </tr>\n",
              "    <tr>\n",
              "      <th>245</th>\n",
              "      <td>12/23/2020</td>\n",
              "      <td>349.950012</td>\n",
              "      <td>355.000000</td>\n",
              "      <td>349.399994</td>\n",
              "      <td>351.600006</td>\n",
              "      <td>344.093842</td>\n",
              "      <td>1307500</td>\n",
              "    </tr>\n",
              "    <tr>\n",
              "      <th>246</th>\n",
              "      <td>12/24/2020</td>\n",
              "      <td>352.829987</td>\n",
              "      <td>354.059998</td>\n",
              "      <td>350.399994</td>\n",
              "      <td>351.970001</td>\n",
              "      <td>344.455933</td>\n",
              "      <td>508800</td>\n",
              "    </tr>\n",
              "    <tr>\n",
              "      <th>247</th>\n",
              "      <td>12/28/2020</td>\n",
              "      <td>353.109985</td>\n",
              "      <td>357.820007</td>\n",
              "      <td>351.709991</td>\n",
              "      <td>354.179993</td>\n",
              "      <td>346.618744</td>\n",
              "      <td>1023400</td>\n",
              "    </tr>\n",
              "    <tr>\n",
              "      <th>248</th>\n",
              "      <td>12/29/2020</td>\n",
              "      <td>356.000000</td>\n",
              "      <td>357.350006</td>\n",
              "      <td>351.799988</td>\n",
              "      <td>353.899994</td>\n",
              "      <td>346.344696</td>\n",
              "      <td>1055900</td>\n",
              "    </tr>\n",
              "    <tr>\n",
              "      <th>249</th>\n",
              "      <td>12/30/2020</td>\n",
              "      <td>353.000000</td>\n",
              "      <td>356.609985</td>\n",
              "      <td>353.000000</td>\n",
              "      <td>354.160004</td>\n",
              "      <td>346.599152</td>\n",
              "      <td>840800</td>\n",
              "    </tr>\n",
              "    <tr>\n",
              "      <th>250</th>\n",
              "      <td>12/31/2020</td>\n",
              "      <td>353.820007</td>\n",
              "      <td>356.029999</td>\n",
              "      <td>352.230011</td>\n",
              "      <td>354.980011</td>\n",
              "      <td>347.401672</td>\n",
              "      <td>1318500</td>\n",
              "    </tr>\n",
              "  </tbody>\n",
              "</table>\n",
              "</div>"
            ],
            "text/plain": [
              "           Date        Open        High  ...       Close   Adj Close   Volume\n",
              "241  12/17/2020  355.929993  357.660004  ...  352.600006  345.072479  1658100\n",
              "242  12/18/2020  352.040009  356.790009  ...  356.029999  348.429230  4342000\n",
              "243  12/21/2020  353.160004  353.940002  ...  349.350006  341.891876  2128700\n",
              "244  12/22/2020  349.350006  350.619995  ...  347.920013  340.492371  1820800\n",
              "245  12/23/2020  349.950012  355.000000  ...  351.600006  344.093842  1307500\n",
              "246  12/24/2020  352.829987  354.059998  ...  351.970001  344.455933   508800\n",
              "247  12/28/2020  353.109985  357.820007  ...  354.179993  346.618744  1023400\n",
              "248  12/29/2020  356.000000  357.350006  ...  353.899994  346.344696  1055900\n",
              "249  12/30/2020  353.000000  356.609985  ...  354.160004  346.599152   840800\n",
              "250  12/31/2020  353.820007  356.029999  ...  354.980011  347.401672  1318500\n",
              "\n",
              "[10 rows x 7 columns]"
            ]
          },
          "metadata": {},
          "execution_count": 18
        }
      ]
    },
    {
      "cell_type": "code",
      "metadata": {
        "id": "MaqrLfuaec0U"
      },
      "source": [
        "x = lmt['Open']\n",
        "y = lmt['Close']"
      ],
      "execution_count": 40,
      "outputs": []
    },
    {
      "cell_type": "code",
      "metadata": {
        "colab": {
          "base_uri": "https://localhost:8080/",
          "height": 282
        },
        "id": "ePnWx4Myeluz",
        "outputId": "60639183-63bc-439c-8a7f-4428f1fc27ff"
      },
      "source": [
        "plt.errorbar(x,y,fmt='o',color='green')"
      ],
      "execution_count": 41,
      "outputs": [
        {
          "output_type": "execute_result",
          "data": {
            "text/plain": [
              "<ErrorbarContainer object of 3 artists>"
            ]
          },
          "metadata": {},
          "execution_count": 41
        },
        {
          "output_type": "display_data",
          "data": {
            "image/png": "[encoded data removed]",
            "text/plain": [
              "<Figure size 432x288 with 1 Axes>"
            ]
          },
          "metadata": {
            "needs_background": "light"
          }
        }
      ]
    },
    {
      "cell_type": "code",
      "metadata": {
        "id": "dfT5Nmz1e8X0"
      },
      "source": [
        "from sklearn.model_selection import train_test_split\n",
        "X_train,X_test,y_train,y_test = train_test_split(x,y,test_size=0.1)"
      ],
      "execution_count": 45,
      "outputs": []
    },
    {
      "cell_type": "code",
      "metadata": {
        "colab": {
          "base_uri": "https://localhost:8080/"
        },
        "id": "Ur5uifoXfOHb",
        "outputId": "92c569d2-a806-4697-906e-55a2c26f8429"
      },
      "source": [
        "X_train.shape,X_test.shape,y_train.shape,y_test.shape"
      ],
      "execution_count": 46,
      "outputs": [
        {
          "output_type": "execute_result",
          "data": {
            "text/plain": [
              "((225,), (26,), (225,), (26,))"
            ]
          },
          "metadata": {},
          "execution_count": 46
        }
      ]
    },
    {
      "cell_type": "code",
      "metadata": {
        "colab": {
          "base_uri": "https://localhost:8080/"
        },
        "id": "UenEltPPAYWS",
        "outputId": "dbff367e-39f5-483f-dc08-b1e92be33639"
      },
      "source": [
        "from sklearn.tree import DecisionTreeRegressor\n",
        "dct = DecisionTreeRegressor()\n",
        "dct.fit(X_train[:,None],y_train)"
      ],
      "execution_count": 47,
      "outputs": [
        {
          "output_type": "stream",
          "name": "stderr",
          "text": [
            "/usr/local/lib/python3.7/dist-packages/ipykernel_launcher.py:3: FutureWarning: Support for multi-dimensional indexing (e.g. `obj[:, None]`) is deprecated and will be removed in a future version.  Convert to a numpy array before indexing instead.\n",
            "  This is separate from the ipykernel package so we can avoid doing imports until\n"
          ]
        },
        {
          "output_type": "execute_result",
          "data": {
            "text/plain": [
              "DecisionTreeRegressor(ccp_alpha=0.0, criterion='mse', max_depth=None,\n",
              "                      max_features=None, max_leaf_nodes=None,\n",
              "                      min_impurity_decrease=0.0, min_impurity_split=None,\n",
              "                      min_samples_leaf=1, min_samples_split=2,\n",
              "                      min_weight_fraction_leaf=0.0, presort='deprecated',\n",
              "                      random_state=None, splitter='best')"
            ]
          },
          "metadata": {},
          "execution_count": 47
        }
      ]
    },
    {
      "cell_type": "code",
      "metadata": {
        "id": "Y0805qx5UkQO",
        "colab": {
          "base_uri": "https://localhost:8080/"
        },
        "outputId": "de6cb9af-abf2-4bb8-dbd3-bfbe4dbb4265"
      },
      "source": [
        "dct.score(X_test[:,None],y_test)"
      ],
      "execution_count": 48,
      "outputs": [
        {
          "output_type": "stream",
          "name": "stderr",
          "text": [
            "/usr/local/lib/python3.7/dist-packages/ipykernel_launcher.py:1: FutureWarning: Support for multi-dimensional indexing (e.g. `obj[:, None]`) is deprecated and will be removed in a future version.  Convert to a numpy array before indexing instead.\n",
            "  \"\"\"Entry point for launching an IPython kernel.\n"
          ]
        },
        {
          "output_type": "execute_result",
          "data": {
            "text/plain": [
              "0.9571881222168075"
            ]
          },
          "metadata": {},
          "execution_count": 48
        }
      ]
    },
    {
      "cell_type": "code",
      "metadata": {
        "colab": {
          "base_uri": "https://localhost:8080/"
        },
        "id": "rLj6jRbqfgKS",
        "outputId": "2b2aacdc-425e-4570-fe4d-11cae87a210f"
      },
      "source": [
        "dct_pred = dct.predict(X_train[:,None])"
      ],
      "execution_count": 50,
      "outputs": [
        {
          "output_type": "stream",
          "name": "stderr",
          "text": [
            "/usr/local/lib/python3.7/dist-packages/ipykernel_launcher.py:1: FutureWarning: Support for multi-dimensional indexing (e.g. `obj[:, None]`) is deprecated and will be removed in a future version.  Convert to a numpy array before indexing instead.\n",
            "  \"\"\"Entry point for launching an IPython kernel.\n"
          ]
        }
      ]
    },
    {
      "cell_type": "code",
      "metadata": {
        "id": "koC5Y8OMf2ri"
      },
      "source": [
        "from sklearn.neighbors import KNeighborsRegressor\n",
        "knn = KNeighborsRegressor()"
      ],
      "execution_count": 56,
      "outputs": []
    },
    {
      "cell_type": "code",
      "metadata": {
        "colab": {
          "base_uri": "https://localhost:8080/"
        },
        "id": "o4X-ok22hMw_",
        "outputId": "105f3215-85d0-4ecc-b3d4-af81a0811a2c"
      },
      "source": [
        "knn.fit(X_train[:,None],y_train)"
      ],
      "execution_count": 57,
      "outputs": [
        {
          "output_type": "stream",
          "name": "stderr",
          "text": [
            "/usr/local/lib/python3.7/dist-packages/ipykernel_launcher.py:1: FutureWarning: Support for multi-dimensional indexing (e.g. `obj[:, None]`) is deprecated and will be removed in a future version.  Convert to a numpy array before indexing instead.\n",
            "  \"\"\"Entry point for launching an IPython kernel.\n"
          ]
        },
        {
          "output_type": "execute_result",
          "data": {
            "text/plain": [
              "KNeighborsRegressor(algorithm='auto', leaf_size=30, metric='minkowski',\n",
              "                    metric_params=None, n_jobs=None, n_neighbors=5, p=2,\n",
              "                    weights='uniform')"
            ]
          },
          "metadata": {},
          "execution_count": 57
        }
      ]
    },
    {
      "cell_type": "code",
      "metadata": {
        "colab": {
          "base_uri": "https://localhost:8080/"
        },
        "id": "6K0NvOknhcZz",
        "outputId": "f2e9da42-9fed-4a03-ee04-bddbfde77397"
      },
      "source": [
        "knn.score(X_test[:,None],y_test)"
      ],
      "execution_count": 58,
      "outputs": [
        {
          "output_type": "stream",
          "name": "stderr",
          "text": [
            "/usr/local/lib/python3.7/dist-packages/ipykernel_launcher.py:1: FutureWarning: Support for multi-dimensional indexing (e.g. `obj[:, None]`) is deprecated and will be removed in a future version.  Convert to a numpy array before indexing instead.\n",
            "  \"\"\"Entry point for launching an IPython kernel.\n"
          ]
        },
        {
          "output_type": "execute_result",
          "data": {
            "text/plain": [
              "0.9694515135273705"
            ]
          },
          "metadata": {},
          "execution_count": 58
        }
      ]
    },
    {
      "cell_type": "code",
      "metadata": {
        "colab": {
          "base_uri": "https://localhost:8080/"
        },
        "id": "wX6JC6hsi06l",
        "outputId": "124a6892-856d-4929-e437-186683495a01"
      },
      "source": [
        "knn_pred = knn.predict(X_test[:,None])"
      ],
      "execution_count": 63,
      "outputs": [
        {
          "output_type": "stream",
          "name": "stderr",
          "text": [
            "/usr/local/lib/python3.7/dist-packages/ipykernel_launcher.py:1: FutureWarning: Support for multi-dimensional indexing (e.g. `obj[:, None]`) is deprecated and will be removed in a future version.  Convert to a numpy array before indexing instead.\n",
            "  \"\"\"Entry point for launching an IPython kernel.\n"
          ]
        }
      ]
    },
    {
      "cell_type": "code",
      "metadata": {
        "colab": {
          "base_uri": "https://localhost:8080/"
        },
        "id": "ZbbuPikdiCiS",
        "outputId": "79b08daa-b58e-447f-c8e9-951f5dcd85d3"
      },
      "source": [
        "from sklearn.ensemble import RandomForestRegressor\n",
        "forest = RandomForestRegressor(n_estimators=1000)\n",
        "forest.fit(X_train[:,None],y_train)"
      ],
      "execution_count": 71,
      "outputs": [
        {
          "output_type": "stream",
          "name": "stderr",
          "text": [
            "/usr/local/lib/python3.7/dist-packages/ipykernel_launcher.py:3: FutureWarning: Support for multi-dimensional indexing (e.g. `obj[:, None]`) is deprecated and will be removed in a future version.  Convert to a numpy array before indexing instead.\n",
            "  This is separate from the ipykernel package so we can avoid doing imports until\n"
          ]
        },
        {
          "output_type": "execute_result",
          "data": {
            "text/plain": [
              "RandomForestRegressor(bootstrap=True, ccp_alpha=0.0, criterion='mse',\n",
              "                      max_depth=None, max_features='auto', max_leaf_nodes=None,\n",
              "                      max_samples=None, min_impurity_decrease=0.0,\n",
              "                      min_impurity_split=None, min_samples_leaf=1,\n",
              "                      min_samples_split=2, min_weight_fraction_leaf=0.0,\n",
              "                      n_estimators=1000, n_jobs=None, oob_score=False,\n",
              "                      random_state=None, verbose=0, warm_start=False)"
            ]
          },
          "metadata": {},
          "execution_count": 71
        }
      ]
    },
    {
      "cell_type": "code",
      "metadata": {
        "colab": {
          "base_uri": "https://localhost:8080/"
        },
        "id": "VL7eep-0jpgy",
        "outputId": "5408b232-cd92-4fa7-d547-6bc432f00097"
      },
      "source": [
        "forest.score(X_test[:,None],y_test)"
      ],
      "execution_count": 72,
      "outputs": [
        {
          "output_type": "stream",
          "name": "stderr",
          "text": [
            "/usr/local/lib/python3.7/dist-packages/ipykernel_launcher.py:1: FutureWarning: Support for multi-dimensional indexing (e.g. `obj[:, None]`) is deprecated and will be removed in a future version.  Convert to a numpy array before indexing instead.\n",
            "  \"\"\"Entry point for launching an IPython kernel.\n"
          ]
        },
        {
          "output_type": "execute_result",
          "data": {
            "text/plain": [
              "0.9677826679039527"
            ]
          },
          "metadata": {},
          "execution_count": 72
        }
      ]
    },
    {
      "cell_type": "code",
      "metadata": {
        "colab": {
          "base_uri": "https://localhost:8080/"
        },
        "id": "2mQhqn80juii",
        "outputId": "188ad733-73ce-4371-aa28-10437beed49c"
      },
      "source": [
        "from sklearn.linear_model import Lasso, Ridge\n",
        "la = Lasso()\n",
        "rg = Ridge()\n",
        "\n",
        "la.fit(X_train[:,None],y_train)\n",
        "rg.fit(X_train[:,None],y_train)"
      ],
      "execution_count": 73,
      "outputs": [
        {
          "output_type": "stream",
          "name": "stderr",
          "text": [
            "/usr/local/lib/python3.7/dist-packages/ipykernel_launcher.py:5: FutureWarning: Support for multi-dimensional indexing (e.g. `obj[:, None]`) is deprecated and will be removed in a future version.  Convert to a numpy array before indexing instead.\n",
            "  \"\"\"\n",
            "/usr/local/lib/python3.7/dist-packages/ipykernel_launcher.py:6: FutureWarning: Support for multi-dimensional indexing (e.g. `obj[:, None]`) is deprecated and will be removed in a future version.  Convert to a numpy array before indexing instead.\n",
            "  \n"
          ]
        },
        {
          "output_type": "execute_result",
          "data": {
            "text/plain": [
              "Ridge(alpha=1.0, copy_X=True, fit_intercept=True, max_iter=None,\n",
              "      normalize=False, random_state=None, solver='auto', tol=0.001)"
            ]
          },
          "metadata": {},
          "execution_count": 73
        }
      ]
    },
    {
      "cell_type": "code",
      "metadata": {
        "colab": {
          "base_uri": "https://localhost:8080/"
        },
        "id": "yYPi0YJNoU5D",
        "outputId": "f006fdc2-dd15-43bc-f5ab-18095baf8335"
      },
      "source": [
        "la.score(X_test[:,None],y_test)"
      ],
      "execution_count": 74,
      "outputs": [
        {
          "output_type": "stream",
          "name": "stderr",
          "text": [
            "/usr/local/lib/python3.7/dist-packages/ipykernel_launcher.py:1: FutureWarning: Support for multi-dimensional indexing (e.g. `obj[:, None]`) is deprecated and will be removed in a future version.  Convert to a numpy array before indexing instead.\n",
            "  \"\"\"Entry point for launching an IPython kernel.\n"
          ]
        },
        {
          "output_type": "execute_result",
          "data": {
            "text/plain": [
              "0.9766297328323671"
            ]
          },
          "metadata": {},
          "execution_count": 74
        }
      ]
    },
    {
      "cell_type": "code",
      "metadata": {
        "colab": {
          "base_uri": "https://localhost:8080/"
        },
        "id": "KuyhN6H1pe9L",
        "outputId": "03afdfd2-1117-46a6-e1e7-35e28319be1f"
      },
      "source": [
        "rg.score(X_test[:,None],y_test)"
      ],
      "execution_count": 75,
      "outputs": [
        {
          "output_type": "stream",
          "name": "stderr",
          "text": [
            "/usr/local/lib/python3.7/dist-packages/ipykernel_launcher.py:1: FutureWarning: Support for multi-dimensional indexing (e.g. `obj[:, None]`) is deprecated and will be removed in a future version.  Convert to a numpy array before indexing instead.\n",
            "  \"\"\"Entry point for launching an IPython kernel.\n"
          ]
        },
        {
          "output_type": "execute_result",
          "data": {
            "text/plain": [
              "0.9767947435708974"
            ]
          },
          "metadata": {},
          "execution_count": 75
        }
      ]
    },
    {
      "cell_type": "code",
      "metadata": {
        "colab": {
          "base_uri": "https://localhost:8080/"
        },
        "id": "kfHAJrX3piND",
        "outputId": "70851378-7808-4569-a8a4-afd947157408"
      },
      "source": [
        "la_pred = la.predict(X_test[:,None])\n",
        "rg_pred = rg.predict(X_test[:,None])\n",
        "for_pred = forest.predict(X_test[:,None])"
      ],
      "execution_count": 76,
      "outputs": [
        {
          "output_type": "stream",
          "name": "stderr",
          "text": [
            "/usr/local/lib/python3.7/dist-packages/ipykernel_launcher.py:1: FutureWarning: Support for multi-dimensional indexing (e.g. `obj[:, None]`) is deprecated and will be removed in a future version.  Convert to a numpy array before indexing instead.\n",
            "  \"\"\"Entry point for launching an IPython kernel.\n",
            "/usr/local/lib/python3.7/dist-packages/ipykernel_launcher.py:2: FutureWarning: Support for multi-dimensional indexing (e.g. `obj[:, None]`) is deprecated and will be removed in a future version.  Convert to a numpy array before indexing instead.\n",
            "  \n",
            "/usr/local/lib/python3.7/dist-packages/ipykernel_launcher.py:3: FutureWarning: Support for multi-dimensional indexing (e.g. `obj[:, None]`) is deprecated and will be removed in a future version.  Convert to a numpy array before indexing instead.\n",
            "  This is separate from the ipykernel package so we can avoid doing imports until\n"
          ]
        }
      ]
    },
    {
      "cell_type": "code",
      "metadata": {
        "id": "9tZ6meNmpzjB"
      },
      "source": [
        "stock = pd.DataFrame({'Open':X_test,'Close':y_test})"
      ],
      "execution_count": 84,
      "outputs": []
    },
    {
      "cell_type": "code",
      "metadata": {
        "colab": {
          "base_uri": "https://localhost:8080/",
          "height": 204
        },
        "id": "Weqfh21cp_Ga",
        "outputId": "8e490795-f031-4b0a-b7da-650815424baf"
      },
      "source": [
        "stock.head()"
      ],
      "execution_count": 86,
      "outputs": [
        {
          "output_type": "execute_result",
          "data": {
            "text/html": [
              "<div>\n",
              "<style scoped>\n",
              "    .dataframe tbody tr th:only-of-type {\n",
              "        vertical-align: middle;\n",
              "    }\n",
              "\n",
              "    .dataframe tbody tr th {\n",
              "        vertical-align: top;\n",
              "    }\n",
              "\n",
              "    .dataframe thead th {\n",
              "        text-align: right;\n",
              "    }\n",
              "</style>\n",
              "<table border=\"1\" class=\"dataframe\">\n",
              "  <thead>\n",
              "    <tr style=\"text-align: right;\">\n",
              "      <th></th>\n",
              "      <th>Open</th>\n",
              "      <th>Close</th>\n",
              "    </tr>\n",
              "  </thead>\n",
              "  <tbody>\n",
              "    <tr>\n",
              "      <th>20</th>\n",
              "      <td>327.429993</td>\n",
              "      <td>332.700012</td>\n",
              "    </tr>\n",
              "    <tr>\n",
              "      <th>67</th>\n",
              "      <td>387.130005</td>\n",
              "      <td>387.850006</td>\n",
              "    </tr>\n",
              "    <tr>\n",
              "      <th>223</th>\n",
              "      <td>375.970001</td>\n",
              "      <td>368.019989</td>\n",
              "    </tr>\n",
              "    <tr>\n",
              "      <th>74</th>\n",
              "      <td>387.519989</td>\n",
              "      <td>387.239990</td>\n",
              "    </tr>\n",
              "    <tr>\n",
              "      <th>245</th>\n",
              "      <td>349.950012</td>\n",
              "      <td>351.600006</td>\n",
              "    </tr>\n",
              "  </tbody>\n",
              "</table>\n",
              "</div>"
            ],
            "text/plain": [
              "           Open       Close\n",
              "20   327.429993  332.700012\n",
              "67   387.130005  387.850006\n",
              "223  375.970001  368.019989\n",
              "74   387.519989  387.239990\n",
              "245  349.950012  351.600006"
            ]
          },
          "metadata": {},
          "execution_count": 86
        }
      ]
    },
    {
      "cell_type": "code",
      "metadata": {
        "colab": {
          "base_uri": "https://localhost:8080/"
        },
        "id": "4I-1eYVdq7pe",
        "outputId": "cea47c78-bfcf-46cb-ef0e-acc6fecc7283"
      },
      "source": [
        "la_pred.shape"
      ],
      "execution_count": 88,
      "outputs": [
        {
          "output_type": "execute_result",
          "data": {
            "text/plain": [
              "(26,)"
            ]
          },
          "metadata": {},
          "execution_count": 88
        }
      ]
    },
    {
      "cell_type": "code",
      "metadata": {
        "id": "y38TkG3zqNLD"
      },
      "source": [
        "stock['la_pred'] = la_pred\n",
        "stock['rg_pred'] = rg_pred\n",
        "stock['for_pred'] = for_pred\n",
        "stock['knn_pred'] = knn_pred"
      ],
      "execution_count": 90,
      "outputs": []
    },
    {
      "cell_type": "code",
      "metadata": {
        "colab": {
          "base_uri": "https://localhost:8080/",
          "height": 204
        },
        "id": "2ye-nh-3q1nZ",
        "outputId": "450837a5-e746-4bff-b2fa-8a09d4fc6fd5"
      },
      "source": [
        "stock.head()"
      ],
      "execution_count": 92,
      "outputs": [
        {
          "output_type": "execute_result",
          "data": {
            "text/html": [
              "<div>\n",
              "<style scoped>\n",
              "    .dataframe tbody tr th:only-of-type {\n",
              "        vertical-align: middle;\n",
              "    }\n",
              "\n",
              "    .dataframe tbody tr th {\n",
              "        vertical-align: top;\n",
              "    }\n",
              "\n",
              "    .dataframe thead th {\n",
              "        text-align: right;\n",
              "    }\n",
              "</style>\n",
              "<table border=\"1\" class=\"dataframe\">\n",
              "  <thead>\n",
              "    <tr style=\"text-align: right;\">\n",
              "      <th></th>\n",
              "      <th>Open</th>\n",
              "      <th>Close</th>\n",
              "      <th>la_pred</th>\n",
              "      <th>rg_pred</th>\n",
              "      <th>for_pred</th>\n",
              "      <th>knn_pred</th>\n",
              "    </tr>\n",
              "  </thead>\n",
              "  <tbody>\n",
              "    <tr>\n",
              "      <th>20</th>\n",
              "      <td>327.429993</td>\n",
              "      <td>332.700012</td>\n",
              "      <td>327.749701</td>\n",
              "      <td>327.632680</td>\n",
              "      <td>326.821351</td>\n",
              "      <td>329.612006</td>\n",
              "    </tr>\n",
              "    <tr>\n",
              "      <th>67</th>\n",
              "      <td>387.130005</td>\n",
              "      <td>387.850006</td>\n",
              "      <td>386.326201</td>\n",
              "      <td>386.407417</td>\n",
              "      <td>387.986207</td>\n",
              "      <td>388.022009</td>\n",
              "    </tr>\n",
              "    <tr>\n",
              "      <th>223</th>\n",
              "      <td>375.970001</td>\n",
              "      <td>368.019989</td>\n",
              "      <td>375.376220</td>\n",
              "      <td>375.420379</td>\n",
              "      <td>374.179708</td>\n",
              "      <td>375.635999</td>\n",
              "    </tr>\n",
              "    <tr>\n",
              "      <th>74</th>\n",
              "      <td>387.519989</td>\n",
              "      <td>387.239990</td>\n",
              "      <td>386.708846</td>\n",
              "      <td>386.791357</td>\n",
              "      <td>387.760267</td>\n",
              "      <td>386.002008</td>\n",
              "    </tr>\n",
              "    <tr>\n",
              "      <th>245</th>\n",
              "      <td>349.950012</td>\n",
              "      <td>351.600006</td>\n",
              "      <td>349.845909</td>\n",
              "      <td>349.803667</td>\n",
              "      <td>350.941938</td>\n",
              "      <td>349.194000</td>\n",
              "    </tr>\n",
              "  </tbody>\n",
              "</table>\n",
              "</div>"
            ],
            "text/plain": [
              "           Open       Close     la_pred     rg_pred    for_pred    knn_pred\n",
              "20   327.429993  332.700012  327.749701  327.632680  326.821351  329.612006\n",
              "67   387.130005  387.850006  386.326201  386.407417  387.986207  388.022009\n",
              "223  375.970001  368.019989  375.376220  375.420379  374.179708  375.635999\n",
              "74   387.519989  387.239990  386.708846  386.791357  387.760267  386.002008\n",
              "245  349.950012  351.600006  349.845909  349.803667  350.941938  349.194000"
            ]
          },
          "metadata": {},
          "execution_count": 92
        }
      ]
    },
    {
      "cell_type": "code",
      "metadata": {
        "id": "A8ikp3jfrOhL"
      },
      "source": [
        ""
      ],
      "execution_count": null,
      "outputs": []
    }
  ]
}