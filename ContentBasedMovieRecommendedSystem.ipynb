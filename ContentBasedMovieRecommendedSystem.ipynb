{
  "nbformat": 4,
  "nbformat_minor": 0,
  "metadata": {
    "colab": {
      "name": "ContentBasedMovieRecommendedSystem.ipynb",
      "provenance": [],
      "collapsed_sections": []
    },
    "kernelspec": {
      "name": "python3",
      "display_name": "Python 3"
    },
    "language_info": {
      "name": "python"
    }
  },
  "cells": [
    {
      "cell_type": "code",
      "metadata": {
        "id": "nT6--zLp-OVS"
      },
      "source": [
        "import pandas as pd\n",
        "import numpy as np\n",
        "from sklearn.feature_extraction.text import CountVectorizer\n",
        "from sklearn.metrics.pairwise import cosine_similarity"
      ],
      "execution_count": 2,
      "outputs": []
    },
    {
      "cell_type": "code",
      "metadata": {
        "id": "lGhEhHEz-Tkt"
      },
      "source": [
        "df = pd.read_csv(\"TMDb_updated.CSV\")"
      ],
      "execution_count": 6,
      "outputs": []
    },
    {
      "cell_type": "code",
      "metadata": {
        "colab": {
          "base_uri": "https://localhost:8080/",
          "height": 204
        },
        "id": "LlPMhH2o-jj9",
        "outputId": "d7ee8833-e297-4880-e6b7-2029a4a8ceae"
      },
      "source": [
        "df.head()"
      ],
      "execution_count": 7,
      "outputs": [
        {
          "output_type": "execute_result",
          "data": {
            "text/html": [
              "<div>\n",
              "<style scoped>\n",
              "    .dataframe tbody tr th:only-of-type {\n",
              "        vertical-align: middle;\n",
              "    }\n",
              "\n",
              "    .dataframe tbody tr th {\n",
              "        vertical-align: top;\n",
              "    }\n",
              "\n",
              "    .dataframe thead th {\n",
              "        text-align: right;\n",
              "    }\n",
              "</style>\n",
              "<table border=\"1\" class=\"dataframe\">\n",
              "  <thead>\n",
              "    <tr style=\"text-align: right;\">\n",
              "      <th></th>\n",
              "      <th>Unnamed: 0</th>\n",
              "      <th>title</th>\n",
              "      <th>overview</th>\n",
              "      <th>original_language</th>\n",
              "      <th>vote_count</th>\n",
              "      <th>vote_average</th>\n",
              "    </tr>\n",
              "  </thead>\n",
              "  <tbody>\n",
              "    <tr>\n",
              "      <th>0</th>\n",
              "      <td>0</td>\n",
              "      <td>Ad Astra</td>\n",
              "      <td>The near future, a time when both hope and har...</td>\n",
              "      <td>en</td>\n",
              "      <td>2853</td>\n",
              "      <td>5.9</td>\n",
              "    </tr>\n",
              "    <tr>\n",
              "      <th>1</th>\n",
              "      <td>1</td>\n",
              "      <td>Bloodshot</td>\n",
              "      <td>After he and his wife are murdered, marine Ray...</td>\n",
              "      <td>en</td>\n",
              "      <td>1349</td>\n",
              "      <td>7.2</td>\n",
              "    </tr>\n",
              "    <tr>\n",
              "      <th>2</th>\n",
              "      <td>2</td>\n",
              "      <td>Bad Boys for Life</td>\n",
              "      <td>Marcus and Mike are forced to confront new thr...</td>\n",
              "      <td>en</td>\n",
              "      <td>2530</td>\n",
              "      <td>7.1</td>\n",
              "    </tr>\n",
              "    <tr>\n",
              "      <th>3</th>\n",
              "      <td>3</td>\n",
              "      <td>Ant-Man</td>\n",
              "      <td>Armed with the astonishing ability to shrink i...</td>\n",
              "      <td>en</td>\n",
              "      <td>13611</td>\n",
              "      <td>7.1</td>\n",
              "    </tr>\n",
              "    <tr>\n",
              "      <th>4</th>\n",
              "      <td>4</td>\n",
              "      <td>Percy Jackson: Sea of Monsters</td>\n",
              "      <td>In their quest to confront the ultimate evil, ...</td>\n",
              "      <td>en</td>\n",
              "      <td>3542</td>\n",
              "      <td>5.9</td>\n",
              "    </tr>\n",
              "  </tbody>\n",
              "</table>\n",
              "</div>"
            ],
            "text/plain": [
              "   Unnamed: 0                           title  ... vote_count vote_average\n",
              "0           0                        Ad Astra  ...       2853          5.9\n",
              "1           1                       Bloodshot  ...       1349          7.2\n",
              "2           2               Bad Boys for Life  ...       2530          7.1\n",
              "3           3                         Ant-Man  ...      13611          7.1\n",
              "4           4  Percy Jackson: Sea of Monsters  ...       3542          5.9\n",
              "\n",
              "[5 rows x 6 columns]"
            ]
          },
          "metadata": {},
          "execution_count": 7
        }
      ]
    },
    {
      "cell_type": "code",
      "metadata": {
        "id": "HXdmEGUY-rxV"
      },
      "source": [
        "def short_word(columns,word):\n",
        "    list_word = []\n",
        "    for i in range(len(columns)):\n",
        "        phrase = str(columns[i])\n",
        "        phrase = phrase.replace(\",\",\"\")\n",
        "        phrase = phrase.replace(\".\",\"\")\n",
        "        phrase = phrase.split(\" \")\n",
        "        phrase = np.array(phrase)\n",
        "        phrase = np.unique(phrase)\n",
        "        phrase = list(phrase)\n",
        "        for i in word:\n",
        "            if i in phrase:\n",
        "                phrase.remove(i)\n",
        "        phrase = (\" \".join(phrase)).replace(\"'\",\"\")\n",
        "        list_word.append(phrase)\n",
        "    return list_word"
      ],
      "execution_count": 8,
      "outputs": []
    },
    {
      "cell_type": "code",
      "metadata": {
        "colab": {
          "base_uri": "https://localhost:8080/"
        },
        "id": "SLgmJgyN-u6q",
        "outputId": "fa7e9ece-2b70-44f7-f349-c03853780d6f"
      },
      "source": [
        "word = ['to','all','into','the','once','no','is','and','due','for','in','of','with','be','With','more','may','A','As','as','a','from','any','up','has','have','use']\n",
        "\n",
        "text = short_word(df['overview'],word)\n",
        "df['filter'] = text\n",
        "print(df['filter'][63])"
      ],
      "execution_count": 9,
      "outputs": [
        {
          "output_type": "stream",
          "name": "stdout",
          "text": [
            "- Avengers Earth Everything Infinity Stones Thanos allies artifacts been collect continued cosmic danger despot emerged existence fate fought goal handle hero his infamy inflict intergalactic itself large led moment never new on one power protect reality shadows: six their them this threats too twisted uncertain unimaginable will world\n"
          ]
        }
      ]
    },
    {
      "cell_type": "code",
      "metadata": {
        "colab": {
          "base_uri": "https://localhost:8080/"
        },
        "id": "k_NH6gNp-w47",
        "outputId": "4b69da80-0278-4e28-ae44-0785a44c33f1"
      },
      "source": [
        "print(df.shape)\n",
        "df = df.dropna()\n",
        "print(df.shape)"
      ],
      "execution_count": 10,
      "outputs": [
        {
          "output_type": "stream",
          "name": "stdout",
          "text": [
            "(10000, 7)\n",
            "(9970, 7)\n"
          ]
        }
      ]
    },
    {
      "cell_type": "code",
      "metadata": {
        "id": "siGhwc91-38r"
      },
      "source": [
        "cv = CountVectorizer()\n",
        "count = cv.fit_transform(df['filter'])"
      ],
      "execution_count": 12,
      "outputs": []
    },
    {
      "cell_type": "code",
      "metadata": {
        "id": "vWuIoObQ-6Mb"
      },
      "source": [
        "sim = cosine_similarity(count)"
      ],
      "execution_count": 13,
      "outputs": []
    },
    {
      "cell_type": "code",
      "metadata": {
        "id": "81lVVRid-_aE"
      },
      "source": [
        "def get_index(title):\n",
        "  return df[df.title == title].index.values[0]"
      ],
      "execution_count": 14,
      "outputs": []
    },
    {
      "cell_type": "code",
      "metadata": {
        "colab": {
          "base_uri": "https://localhost:8080/"
        },
        "id": "_BXZREKJ_FBz",
        "outputId": "deaa645f-2e55-4ed7-a515-fba4deebedb9"
      },
      "source": [
        "movie_id = get_index(\"Avengers: Infinity War\")\n",
        "movie_id"
      ],
      "execution_count": 28,
      "outputs": [
        {
          "output_type": "execute_result",
          "data": {
            "text/plain": [
              "63"
            ]
          },
          "metadata": {},
          "execution_count": 28
        }
      ]
    },
    {
      "cell_type": "code",
      "metadata": {
        "id": "OWRZu6dd_GjW"
      },
      "source": [
        "similar_movie = list(enumerate(sim[movie_id]))\n",
        "sorted_movie = sorted(similar_movie,key=lambda x:x[1],reverse=True)"
      ],
      "execution_count": 29,
      "outputs": []
    },
    {
      "cell_type": "code",
      "metadata": {
        "colab": {
          "base_uri": "https://localhost:8080/"
        },
        "id": "o7cbJxNQAClr",
        "outputId": "315a1952-64bc-4da5-cb13-50ca0f7d54c4"
      },
      "source": [
        "for i in range(20):\n",
        "  print(df[df.index == sorted_movie[i][0]][\"title\"].values[0])"
      ],
      "execution_count": 30,
      "outputs": [
        {
          "output_type": "stream",
          "name": "stdout",
          "text": [
            "Avengers: Infinity War\n",
            "The Happytime Murders\n",
            "12 Years a Slave\n",
            "Final Fantasy VII: Advent Children\n",
            "Incarnate\n",
            "Hurricane Bianca: From Russia with Hate\n",
            "Most Wanted\n",
            "Visions\n",
            "Tales from Earthsea\n",
            "Don't Tell Mom the Babysitter's Dead\n",
            "Sonic the Hedgehog\n",
            "Showgirls\n",
            "Avengers: Endgame\n",
            "Kamen Rider Reiwa: The First Generation\n",
            "Phenomenon\n",
            "Lovelace\n",
            "Valmont\n",
            "Ant-Man\n",
            "Castle in the Sky\n",
            "A Ghost Story\n"
          ]
        }
      ]
    },
    {
      "cell_type": "code",
      "metadata": {
        "id": "9DK0DGV_ALAC"
      },
      "source": [
        ""
      ],
      "execution_count": null,
      "outputs": []
    }
  ]
}